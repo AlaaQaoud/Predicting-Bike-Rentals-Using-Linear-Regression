{
 "cells": [
  {
   "cell_type": "markdown",
   "metadata": {},
   "source": [
    "Preprocessing the Data:\n",
    "  1. Inspect the Dataset:\n",
    "  \n",
    "      - Loadanddisplay the dataset."
   ]
  },
  {
   "cell_type": "code",
   "execution_count": 1,
   "metadata": {},
   "outputs": [],
   "source": [
    "import pandas as pd \n",
    "import numpy as np"
   ]
  },
  {
   "cell_type": "code",
   "execution_count": 2,
   "metadata": {},
   "outputs": [
    {
     "data": {
      "text/html": [
       "<div>\n",
       "<style scoped>\n",
       "    .dataframe tbody tr th:only-of-type {\n",
       "        vertical-align: middle;\n",
       "    }\n",
       "\n",
       "    .dataframe tbody tr th {\n",
       "        vertical-align: top;\n",
       "    }\n",
       "\n",
       "    .dataframe thead th {\n",
       "        text-align: right;\n",
       "    }\n",
       "</style>\n",
       "<table border=\"1\" class=\"dataframe\">\n",
       "  <thead>\n",
       "    <tr style=\"text-align: right;\">\n",
       "      <th></th>\n",
       "      <th>datetime</th>\n",
       "      <th>season</th>\n",
       "      <th>holiday</th>\n",
       "      <th>workingday</th>\n",
       "      <th>weather</th>\n",
       "      <th>temp</th>\n",
       "      <th>atemp</th>\n",
       "      <th>humidity</th>\n",
       "      <th>windspeed</th>\n",
       "      <th>casual</th>\n",
       "      <th>registered</th>\n",
       "      <th>count</th>\n",
       "    </tr>\n",
       "  </thead>\n",
       "  <tbody>\n",
       "    <tr>\n",
       "      <th>0</th>\n",
       "      <td>2011-01-01 00:00:00</td>\n",
       "      <td>1</td>\n",
       "      <td>0</td>\n",
       "      <td>0</td>\n",
       "      <td>1</td>\n",
       "      <td>9.84</td>\n",
       "      <td>14.395</td>\n",
       "      <td>81</td>\n",
       "      <td>0.0</td>\n",
       "      <td>3</td>\n",
       "      <td>13</td>\n",
       "      <td>16</td>\n",
       "    </tr>\n",
       "    <tr>\n",
       "      <th>1</th>\n",
       "      <td>2011-01-01 01:00:00</td>\n",
       "      <td>1</td>\n",
       "      <td>0</td>\n",
       "      <td>0</td>\n",
       "      <td>1</td>\n",
       "      <td>9.02</td>\n",
       "      <td>13.635</td>\n",
       "      <td>80</td>\n",
       "      <td>0.0</td>\n",
       "      <td>8</td>\n",
       "      <td>32</td>\n",
       "      <td>40</td>\n",
       "    </tr>\n",
       "    <tr>\n",
       "      <th>2</th>\n",
       "      <td>2011-01-01 02:00:00</td>\n",
       "      <td>1</td>\n",
       "      <td>0</td>\n",
       "      <td>0</td>\n",
       "      <td>1</td>\n",
       "      <td>9.02</td>\n",
       "      <td>13.635</td>\n",
       "      <td>80</td>\n",
       "      <td>0.0</td>\n",
       "      <td>5</td>\n",
       "      <td>27</td>\n",
       "      <td>32</td>\n",
       "    </tr>\n",
       "    <tr>\n",
       "      <th>3</th>\n",
       "      <td>2011-01-01 03:00:00</td>\n",
       "      <td>1</td>\n",
       "      <td>0</td>\n",
       "      <td>0</td>\n",
       "      <td>1</td>\n",
       "      <td>9.84</td>\n",
       "      <td>14.395</td>\n",
       "      <td>75</td>\n",
       "      <td>0.0</td>\n",
       "      <td>3</td>\n",
       "      <td>10</td>\n",
       "      <td>13</td>\n",
       "    </tr>\n",
       "    <tr>\n",
       "      <th>4</th>\n",
       "      <td>2011-01-01 04:00:00</td>\n",
       "      <td>1</td>\n",
       "      <td>0</td>\n",
       "      <td>0</td>\n",
       "      <td>1</td>\n",
       "      <td>9.84</td>\n",
       "      <td>14.395</td>\n",
       "      <td>75</td>\n",
       "      <td>0.0</td>\n",
       "      <td>0</td>\n",
       "      <td>1</td>\n",
       "      <td>1</td>\n",
       "    </tr>\n",
       "  </tbody>\n",
       "</table>\n",
       "</div>"
      ],
      "text/plain": [
       "              datetime  season  holiday  workingday  weather  temp   atemp  \\\n",
       "0  2011-01-01 00:00:00       1        0           0        1  9.84  14.395   \n",
       "1  2011-01-01 01:00:00       1        0           0        1  9.02  13.635   \n",
       "2  2011-01-01 02:00:00       1        0           0        1  9.02  13.635   \n",
       "3  2011-01-01 03:00:00       1        0           0        1  9.84  14.395   \n",
       "4  2011-01-01 04:00:00       1        0           0        1  9.84  14.395   \n",
       "\n",
       "   humidity  windspeed  casual  registered  count  \n",
       "0        81        0.0       3          13     16  \n",
       "1        80        0.0       8          32     40  \n",
       "2        80        0.0       5          27     32  \n",
       "3        75        0.0       3          10     13  \n",
       "4        75        0.0       0           1      1  "
      ]
     },
     "execution_count": 2,
     "metadata": {},
     "output_type": "execute_result"
    }
   ],
   "source": [
    "df = pd.read_csv('BikeSharingAssignment.csv')\n",
    "df.head()"
   ]
  },
  {
   "cell_type": "code",
   "execution_count": 3,
   "metadata": {},
   "outputs": [
    {
     "data": {
      "text/plain": [
       "(10886, 12)"
      ]
     },
     "execution_count": 3,
     "metadata": {},
     "output_type": "execute_result"
    }
   ],
   "source": [
    "df.shape"
   ]
  },
  {
   "cell_type": "code",
   "execution_count": 4,
   "metadata": {},
   "outputs": [
    {
     "data": {
      "text/html": [
       "<div>\n",
       "<style scoped>\n",
       "    .dataframe tbody tr th:only-of-type {\n",
       "        vertical-align: middle;\n",
       "    }\n",
       "\n",
       "    .dataframe tbody tr th {\n",
       "        vertical-align: top;\n",
       "    }\n",
       "\n",
       "    .dataframe thead th {\n",
       "        text-align: right;\n",
       "    }\n",
       "</style>\n",
       "<table border=\"1\" class=\"dataframe\">\n",
       "  <thead>\n",
       "    <tr style=\"text-align: right;\">\n",
       "      <th></th>\n",
       "      <th>datetime</th>\n",
       "      <th>season</th>\n",
       "      <th>holiday</th>\n",
       "      <th>workingday</th>\n",
       "      <th>weather</th>\n",
       "      <th>temp</th>\n",
       "      <th>atemp</th>\n",
       "      <th>humidity</th>\n",
       "      <th>windspeed</th>\n",
       "      <th>casual</th>\n",
       "      <th>registered</th>\n",
       "      <th>count</th>\n",
       "    </tr>\n",
       "  </thead>\n",
       "  <tbody>\n",
       "    <tr>\n",
       "      <th>0</th>\n",
       "      <td>2011-01-01 00:00:00</td>\n",
       "      <td>1</td>\n",
       "      <td>0</td>\n",
       "      <td>0</td>\n",
       "      <td>1</td>\n",
       "      <td>9.84</td>\n",
       "      <td>14.395</td>\n",
       "      <td>81</td>\n",
       "      <td>0.0</td>\n",
       "      <td>3</td>\n",
       "      <td>13</td>\n",
       "      <td>16</td>\n",
       "    </tr>\n",
       "    <tr>\n",
       "      <th>1</th>\n",
       "      <td>2011-01-01 01:00:00</td>\n",
       "      <td>1</td>\n",
       "      <td>0</td>\n",
       "      <td>0</td>\n",
       "      <td>1</td>\n",
       "      <td>9.02</td>\n",
       "      <td>13.635</td>\n",
       "      <td>80</td>\n",
       "      <td>0.0</td>\n",
       "      <td>8</td>\n",
       "      <td>32</td>\n",
       "      <td>40</td>\n",
       "    </tr>\n",
       "    <tr>\n",
       "      <th>2</th>\n",
       "      <td>2011-01-01 02:00:00</td>\n",
       "      <td>1</td>\n",
       "      <td>0</td>\n",
       "      <td>0</td>\n",
       "      <td>1</td>\n",
       "      <td>9.02</td>\n",
       "      <td>13.635</td>\n",
       "      <td>80</td>\n",
       "      <td>0.0</td>\n",
       "      <td>5</td>\n",
       "      <td>27</td>\n",
       "      <td>32</td>\n",
       "    </tr>\n",
       "    <tr>\n",
       "      <th>3</th>\n",
       "      <td>2011-01-01 03:00:00</td>\n",
       "      <td>1</td>\n",
       "      <td>0</td>\n",
       "      <td>0</td>\n",
       "      <td>1</td>\n",
       "      <td>9.84</td>\n",
       "      <td>14.395</td>\n",
       "      <td>75</td>\n",
       "      <td>0.0</td>\n",
       "      <td>3</td>\n",
       "      <td>10</td>\n",
       "      <td>13</td>\n",
       "    </tr>\n",
       "    <tr>\n",
       "      <th>4</th>\n",
       "      <td>2011-01-01 04:00:00</td>\n",
       "      <td>1</td>\n",
       "      <td>0</td>\n",
       "      <td>0</td>\n",
       "      <td>1</td>\n",
       "      <td>9.84</td>\n",
       "      <td>14.395</td>\n",
       "      <td>75</td>\n",
       "      <td>0.0</td>\n",
       "      <td>0</td>\n",
       "      <td>1</td>\n",
       "      <td>1</td>\n",
       "    </tr>\n",
       "  </tbody>\n",
       "</table>\n",
       "</div>"
      ],
      "text/plain": [
       "              datetime  season  holiday  workingday  weather  temp   atemp  \\\n",
       "0  2011-01-01 00:00:00       1        0           0        1  9.84  14.395   \n",
       "1  2011-01-01 01:00:00       1        0           0        1  9.02  13.635   \n",
       "2  2011-01-01 02:00:00       1        0           0        1  9.02  13.635   \n",
       "3  2011-01-01 03:00:00       1        0           0        1  9.84  14.395   \n",
       "4  2011-01-01 04:00:00       1        0           0        1  9.84  14.395   \n",
       "\n",
       "   humidity  windspeed  casual  registered  count  \n",
       "0        81        0.0       3          13     16  \n",
       "1        80        0.0       8          32     40  \n",
       "2        80        0.0       5          27     32  \n",
       "3        75        0.0       3          10     13  \n",
       "4        75        0.0       0           1      1  "
      ]
     },
     "execution_count": 4,
     "metadata": {},
     "output_type": "execute_result"
    }
   ],
   "source": [
    "df.columns = df.columns.str.lower().str.replace(' ','_')\n",
    "df.head()"
   ]
  },
  {
   "cell_type": "code",
   "execution_count": 5,
   "metadata": {},
   "outputs": [
    {
     "data": {
      "text/plain": [
       "datetime       object\n",
       "season          int64\n",
       "holiday         int64\n",
       "workingday      int64\n",
       "weather         int64\n",
       "temp          float64\n",
       "atemp         float64\n",
       "humidity        int64\n",
       "windspeed     float64\n",
       "casual          int64\n",
       "registered      int64\n",
       "count           int64\n",
       "dtype: object"
      ]
     },
     "execution_count": 5,
     "metadata": {},
     "output_type": "execute_result"
    }
   ],
   "source": [
    "df.dtypes"
   ]
  },
  {
   "cell_type": "code",
   "execution_count": 6,
   "metadata": {},
   "outputs": [
    {
     "data": {
      "text/plain": [
       "datetime       True\n",
       "season        False\n",
       "holiday       False\n",
       "workingday    False\n",
       "weather       False\n",
       "temp          False\n",
       "atemp         False\n",
       "humidity      False\n",
       "windspeed     False\n",
       "casual        False\n",
       "registered    False\n",
       "count         False\n",
       "dtype: bool"
      ]
     },
     "execution_count": 6,
     "metadata": {},
     "output_type": "execute_result"
    }
   ],
   "source": [
    "df.dtypes == 'object'"
   ]
  },
  {
   "cell_type": "markdown",
   "metadata": {},
   "source": [
    "- Checkfor missing values and duplicates."
   ]
  },
  {
   "cell_type": "code",
   "execution_count": 7,
   "metadata": {},
   "outputs": [
    {
     "data": {
      "text/plain": [
       "datetime      0\n",
       "season        0\n",
       "holiday       0\n",
       "workingday    0\n",
       "weather       0\n",
       "temp          0\n",
       "atemp         0\n",
       "humidity      0\n",
       "windspeed     0\n",
       "casual        0\n",
       "registered    0\n",
       "count         0\n",
       "dtype: int64"
      ]
     },
     "execution_count": 7,
     "metadata": {},
     "output_type": "execute_result"
    }
   ],
   "source": [
    "df.isnull().sum()   # no missing values!"
   ]
  },
  {
   "cell_type": "code",
   "execution_count": 8,
   "metadata": {},
   "outputs": [
    {
     "data": {
      "text/html": [
       "<div>\n",
       "<style scoped>\n",
       "    .dataframe tbody tr th:only-of-type {\n",
       "        vertical-align: middle;\n",
       "    }\n",
       "\n",
       "    .dataframe tbody tr th {\n",
       "        vertical-align: top;\n",
       "    }\n",
       "\n",
       "    .dataframe thead th {\n",
       "        text-align: right;\n",
       "    }\n",
       "</style>\n",
       "<table border=\"1\" class=\"dataframe\">\n",
       "  <thead>\n",
       "    <tr style=\"text-align: right;\">\n",
       "      <th></th>\n",
       "      <th>datetime</th>\n",
       "      <th>season</th>\n",
       "      <th>holiday</th>\n",
       "      <th>workingday</th>\n",
       "      <th>weather</th>\n",
       "      <th>temp</th>\n",
       "      <th>atemp</th>\n",
       "      <th>humidity</th>\n",
       "      <th>windspeed</th>\n",
       "      <th>casual</th>\n",
       "      <th>registered</th>\n",
       "      <th>count</th>\n",
       "    </tr>\n",
       "  </thead>\n",
       "  <tbody>\n",
       "  </tbody>\n",
       "</table>\n",
       "</div>"
      ],
      "text/plain": [
       "Empty DataFrame\n",
       "Columns: [datetime, season, holiday, workingday, weather, temp, atemp, humidity, windspeed, casual, registered, count]\n",
       "Index: []"
      ]
     },
     "execution_count": 8,
     "metadata": {},
     "output_type": "execute_result"
    }
   ],
   "source": [
    "# To check if there is any duplicated rows - للتحقق إن كانت هناك صف سجل مرتين\n",
    "df.loc[df.duplicated()]   # no duplicated values!"
   ]
  },
  {
   "cell_type": "markdown",
   "metadata": {},
   "source": [
    "Encode Categorical Variables:\n",
    " - Convert categorical variables into a numerical format using encoding techniques (e.g., one-hot encoding)."
   ]
  },
  {
   "cell_type": "code",
   "execution_count": 9,
   "metadata": {},
   "outputs": [
    {
     "name": "stdout",
     "output_type": "stream",
     "text": [
      "Object columns are as follows\n"
     ]
    },
    {
     "data": {
      "text/plain": [
       "Index(['datetime'], dtype='object')"
      ]
     },
     "execution_count": 9,
     "metadata": {},
     "output_type": "execute_result"
    }
   ],
   "source": [
    "print('Object columns are as follows')\n",
    "df.loc[:,df.dtypes==object].columns"
   ]
  },
  {
   "cell_type": "code",
   "execution_count": 10,
   "metadata": {},
   "outputs": [
    {
     "name": "stdout",
     "output_type": "stream",
     "text": [
      "10886\n"
     ]
    }
   ],
   "source": [
    "print(df.datetime.nunique())"
   ]
  },
  {
   "cell_type": "code",
   "execution_count": 11,
   "metadata": {},
   "outputs": [
    {
     "data": {
      "text/plain": [
       "0        [2011-01-01, 00:00:00]\n",
       "1        [2011-01-01, 01:00:00]\n",
       "2        [2011-01-01, 02:00:00]\n",
       "3        [2011-01-01, 03:00:00]\n",
       "4        [2011-01-01, 04:00:00]\n",
       "                  ...          \n",
       "10881    [2012-12-19, 19:00:00]\n",
       "10882    [2012-12-19, 20:00:00]\n",
       "10883    [2012-12-19, 21:00:00]\n",
       "10884    [2012-12-19, 22:00:00]\n",
       "10885    [2012-12-19, 23:00:00]\n",
       "Name: datetime, Length: 10886, dtype: object"
      ]
     },
     "execution_count": 11,
     "metadata": {},
     "output_type": "execute_result"
    }
   ],
   "source": [
    "# ومن أجل حل مشكلة العدد الكبير للتواريخ لان هذا يعني ان هيكون لدينا بعد عملية الكودينج 10885 عمود جديد اضافي  فقط من هذا العمود \n",
    "\n",
    "#  اول خطوة سوف نقوم نقوم بفصل التاريخ عن الشهر\n",
    "a = df['datetime'].apply(lambda x : x.split(' '))\n",
    "a"
   ]
  },
  {
   "cell_type": "code",
   "execution_count": 12,
   "metadata": {},
   "outputs": [
    {
     "data": {
      "text/plain": [
       "(array(['2011-01-01', '2011-01-01', '2011-01-01', ..., '2012-12-19',\n",
       "        '2012-12-19', '2012-12-19'], shape=(10886,), dtype='<U10'),\n",
       " array(['00:00:00', '01:00:00', '02:00:00', ..., '21:00:00', '22:00:00',\n",
       "        '23:00:00'], shape=(10886,), dtype='<U10'))"
      ]
     },
     "execution_count": 12,
     "metadata": {},
     "output_type": "execute_result"
    }
   ],
   "source": [
    "li=list(a)\n",
    "arr=np.array(li)\n",
    "arr[:,0], arr[:,1]"
   ]
  },
  {
   "cell_type": "code",
   "execution_count": 13,
   "metadata": {},
   "outputs": [],
   "source": [
    "# تخزين الاعمدة الجديدة في قاعدة البيانات\n",
    "df.insert(1,\"date\",arr[:,0])\n",
    "df.insert(2,\"time\",arr[:,1])"
   ]
  },
  {
   "cell_type": "code",
   "execution_count": 14,
   "metadata": {},
   "outputs": [],
   "source": [
    "# التخلص من عمود الوقت والتاريخ معا\n",
    "df.drop(['datetime'], axis=1, inplace=True)"
   ]
  },
  {
   "cell_type": "code",
   "execution_count": 15,
   "metadata": {},
   "outputs": [
    {
     "data": {
      "text/html": [
       "<div>\n",
       "<style scoped>\n",
       "    .dataframe tbody tr th:only-of-type {\n",
       "        vertical-align: middle;\n",
       "    }\n",
       "\n",
       "    .dataframe tbody tr th {\n",
       "        vertical-align: top;\n",
       "    }\n",
       "\n",
       "    .dataframe thead th {\n",
       "        text-align: right;\n",
       "    }\n",
       "</style>\n",
       "<table border=\"1\" class=\"dataframe\">\n",
       "  <thead>\n",
       "    <tr style=\"text-align: right;\">\n",
       "      <th></th>\n",
       "      <th>date</th>\n",
       "      <th>time</th>\n",
       "      <th>season</th>\n",
       "      <th>holiday</th>\n",
       "      <th>workingday</th>\n",
       "      <th>weather</th>\n",
       "      <th>temp</th>\n",
       "      <th>atemp</th>\n",
       "      <th>humidity</th>\n",
       "      <th>windspeed</th>\n",
       "      <th>casual</th>\n",
       "      <th>registered</th>\n",
       "      <th>count</th>\n",
       "    </tr>\n",
       "  </thead>\n",
       "  <tbody>\n",
       "    <tr>\n",
       "      <th>0</th>\n",
       "      <td>2011-01-01</td>\n",
       "      <td>00:00:00</td>\n",
       "      <td>1</td>\n",
       "      <td>0</td>\n",
       "      <td>0</td>\n",
       "      <td>1</td>\n",
       "      <td>9.84</td>\n",
       "      <td>14.395</td>\n",
       "      <td>81</td>\n",
       "      <td>0.0</td>\n",
       "      <td>3</td>\n",
       "      <td>13</td>\n",
       "      <td>16</td>\n",
       "    </tr>\n",
       "    <tr>\n",
       "      <th>1</th>\n",
       "      <td>2011-01-01</td>\n",
       "      <td>01:00:00</td>\n",
       "      <td>1</td>\n",
       "      <td>0</td>\n",
       "      <td>0</td>\n",
       "      <td>1</td>\n",
       "      <td>9.02</td>\n",
       "      <td>13.635</td>\n",
       "      <td>80</td>\n",
       "      <td>0.0</td>\n",
       "      <td>8</td>\n",
       "      <td>32</td>\n",
       "      <td>40</td>\n",
       "    </tr>\n",
       "    <tr>\n",
       "      <th>2</th>\n",
       "      <td>2011-01-01</td>\n",
       "      <td>02:00:00</td>\n",
       "      <td>1</td>\n",
       "      <td>0</td>\n",
       "      <td>0</td>\n",
       "      <td>1</td>\n",
       "      <td>9.02</td>\n",
       "      <td>13.635</td>\n",
       "      <td>80</td>\n",
       "      <td>0.0</td>\n",
       "      <td>5</td>\n",
       "      <td>27</td>\n",
       "      <td>32</td>\n",
       "    </tr>\n",
       "  </tbody>\n",
       "</table>\n",
       "</div>"
      ],
      "text/plain": [
       "         date      time  season  holiday  workingday  weather  temp   atemp  \\\n",
       "0  2011-01-01  00:00:00       1        0           0        1  9.84  14.395   \n",
       "1  2011-01-01  01:00:00       1        0           0        1  9.02  13.635   \n",
       "2  2011-01-01  02:00:00       1        0           0        1  9.02  13.635   \n",
       "\n",
       "   humidity  windspeed  casual  registered  count  \n",
       "0        81        0.0       3          13     16  \n",
       "1        80        0.0       8          32     40  \n",
       "2        80        0.0       5          27     32  "
      ]
     },
     "execution_count": 15,
     "metadata": {},
     "output_type": "execute_result"
    }
   ],
   "source": [
    "df.head(3)"
   ]
  },
  {
   "cell_type": "code",
   "execution_count": 16,
   "metadata": {},
   "outputs": [
    {
     "data": {
      "text/plain": [
       "456"
      ]
     },
     "execution_count": 16,
     "metadata": {},
     "output_type": "execute_result"
    }
   ],
   "source": [
    "df.date.nunique()\n",
    "# ايضا العدد كبير, نريد استخراج الشهر والعام فقط"
   ]
  },
  {
   "cell_type": "code",
   "execution_count": 17,
   "metadata": {},
   "outputs": [
    {
     "data": {
      "text/plain": [
       "array(['2011_01', '2011_01', '2011_01', ..., '2012_12', '2012_12',\n",
       "       '2012_12'], shape=(10886,), dtype='<U9')"
      ]
     },
     "execution_count": 17,
     "metadata": {},
     "output_type": "execute_result"
    }
   ],
   "source": [
    "# نريد استخرام السنة والشهر فقط\n",
    "b = df['date'].apply(lambda x : x.split('-'))\n",
    "lis=list(b)\n",
    "arr2=np.array(lis)\n",
    "arr2= arr2[:,0]+\"_\"+arr2[:,1]\n",
    "arr2"
   ]
  },
  {
   "cell_type": "code",
   "execution_count": 18,
   "metadata": {},
   "outputs": [],
   "source": [
    "# التخلص من عمود التاريخ كامل \n",
    "df.drop(['date'], axis=1, inplace=True)"
   ]
  },
  {
   "cell_type": "code",
   "execution_count": 19,
   "metadata": {},
   "outputs": [],
   "source": [
    "# تخزين عمود التاريخ الجديد في قاعدة البيانات\n",
    "df.insert(0,\"date\",arr2)"
   ]
  },
  {
   "cell_type": "code",
   "execution_count": 20,
   "metadata": {},
   "outputs": [
    {
     "data": {
      "text/html": [
       "<div>\n",
       "<style scoped>\n",
       "    .dataframe tbody tr th:only-of-type {\n",
       "        vertical-align: middle;\n",
       "    }\n",
       "\n",
       "    .dataframe tbody tr th {\n",
       "        vertical-align: top;\n",
       "    }\n",
       "\n",
       "    .dataframe thead th {\n",
       "        text-align: right;\n",
       "    }\n",
       "</style>\n",
       "<table border=\"1\" class=\"dataframe\">\n",
       "  <thead>\n",
       "    <tr style=\"text-align: right;\">\n",
       "      <th></th>\n",
       "      <th>date</th>\n",
       "      <th>time</th>\n",
       "      <th>season</th>\n",
       "      <th>holiday</th>\n",
       "      <th>workingday</th>\n",
       "      <th>weather</th>\n",
       "      <th>temp</th>\n",
       "      <th>atemp</th>\n",
       "      <th>humidity</th>\n",
       "      <th>windspeed</th>\n",
       "      <th>casual</th>\n",
       "      <th>registered</th>\n",
       "      <th>count</th>\n",
       "    </tr>\n",
       "  </thead>\n",
       "  <tbody>\n",
       "    <tr>\n",
       "      <th>0</th>\n",
       "      <td>2011_01</td>\n",
       "      <td>00:00:00</td>\n",
       "      <td>1</td>\n",
       "      <td>0</td>\n",
       "      <td>0</td>\n",
       "      <td>1</td>\n",
       "      <td>9.84</td>\n",
       "      <td>14.395</td>\n",
       "      <td>81</td>\n",
       "      <td>0.0</td>\n",
       "      <td>3</td>\n",
       "      <td>13</td>\n",
       "      <td>16</td>\n",
       "    </tr>\n",
       "    <tr>\n",
       "      <th>1</th>\n",
       "      <td>2011_01</td>\n",
       "      <td>01:00:00</td>\n",
       "      <td>1</td>\n",
       "      <td>0</td>\n",
       "      <td>0</td>\n",
       "      <td>1</td>\n",
       "      <td>9.02</td>\n",
       "      <td>13.635</td>\n",
       "      <td>80</td>\n",
       "      <td>0.0</td>\n",
       "      <td>8</td>\n",
       "      <td>32</td>\n",
       "      <td>40</td>\n",
       "    </tr>\n",
       "    <tr>\n",
       "      <th>2</th>\n",
       "      <td>2011_01</td>\n",
       "      <td>02:00:00</td>\n",
       "      <td>1</td>\n",
       "      <td>0</td>\n",
       "      <td>0</td>\n",
       "      <td>1</td>\n",
       "      <td>9.02</td>\n",
       "      <td>13.635</td>\n",
       "      <td>80</td>\n",
       "      <td>0.0</td>\n",
       "      <td>5</td>\n",
       "      <td>27</td>\n",
       "      <td>32</td>\n",
       "    </tr>\n",
       "  </tbody>\n",
       "</table>\n",
       "</div>"
      ],
      "text/plain": [
       "      date      time  season  holiday  workingday  weather  temp   atemp  \\\n",
       "0  2011_01  00:00:00       1        0           0        1  9.84  14.395   \n",
       "1  2011_01  01:00:00       1        0           0        1  9.02  13.635   \n",
       "2  2011_01  02:00:00       1        0           0        1  9.02  13.635   \n",
       "\n",
       "   humidity  windspeed  casual  registered  count  \n",
       "0        81        0.0       3          13     16  \n",
       "1        80        0.0       8          32     40  \n",
       "2        80        0.0       5          27     32  "
      ]
     },
     "execution_count": 20,
     "metadata": {},
     "output_type": "execute_result"
    }
   ],
   "source": [
    "df.head(3)"
   ]
  },
  {
   "cell_type": "code",
   "execution_count": 21,
   "metadata": {},
   "outputs": [
    {
     "data": {
      "text/plain": [
       "24"
      ]
     },
     "execution_count": 21,
     "metadata": {},
     "output_type": "execute_result"
    }
   ],
   "source": [
    "df.date.nunique()   # good"
   ]
  },
  {
   "cell_type": "code",
   "execution_count": 22,
   "metadata": {},
   "outputs": [
    {
     "data": {
      "text/plain": [
       "24"
      ]
     },
     "execution_count": 22,
     "metadata": {},
     "output_type": "execute_result"
    }
   ],
   "source": [
    "df.time.nunique()   # good"
   ]
  },
  {
   "cell_type": "code",
   "execution_count": 23,
   "metadata": {},
   "outputs": [
    {
     "name": "stdout",
     "output_type": "stream",
     "text": [
      "['2011_01' '2011_02' '2011_03' '2011_04' '2011_05' '2011_06' '2011_07'\n",
      " '2011_08' '2011_09' '2011_10' '2011_11' '2011_12' '2012_01' '2012_02'\n",
      " '2012_03' '2012_04' '2012_05' '2012_06' '2012_07' '2012_08' '2012_09'\n",
      " '2012_10' '2012_11' '2012_12']\n",
      "['00:00:00' '01:00:00' '02:00:00' '03:00:00' '04:00:00' '05:00:00'\n",
      " '06:00:00' '07:00:00' '08:00:00' '09:00:00' '10:00:00' '11:00:00'\n",
      " '12:00:00' '13:00:00' '14:00:00' '15:00:00' '16:00:00' '17:00:00'\n",
      " '18:00:00' '19:00:00' '20:00:00' '21:00:00' '22:00:00' '23:00:00']\n"
     ]
    }
   ],
   "source": [
    "print(df.date.unique())\n",
    "print(df.time.unique())\n",
    "# لاحظنا عدم وجود تكرار لنفس المعلومة باكثر من شكل"
   ]
  },
  {
   "cell_type": "code",
   "execution_count": 24,
   "metadata": {},
   "outputs": [
    {
     "data": {
      "text/plain": [
       "date           object\n",
       "time           object\n",
       "season          int64\n",
       "holiday         int64\n",
       "workingday      int64\n",
       "weather         int64\n",
       "temp          float64\n",
       "atemp         float64\n",
       "humidity        int64\n",
       "windspeed     float64\n",
       "casual          int64\n",
       "registered      int64\n",
       "count           int64\n",
       "dtype: object"
      ]
     },
     "execution_count": 24,
     "metadata": {},
     "output_type": "execute_result"
    }
   ],
   "source": [
    "df.dtypes"
   ]
  },
  {
   "cell_type": "code",
   "execution_count": 25,
   "metadata": {},
   "outputs": [
    {
     "name": "stdout",
     "output_type": "stream",
     "text": [
      "The new df is\n"
     ]
    },
    {
     "data": {
      "text/html": [
       "<div>\n",
       "<style scoped>\n",
       "    .dataframe tbody tr th:only-of-type {\n",
       "        vertical-align: middle;\n",
       "    }\n",
       "\n",
       "    .dataframe tbody tr th {\n",
       "        vertical-align: top;\n",
       "    }\n",
       "\n",
       "    .dataframe thead th {\n",
       "        text-align: right;\n",
       "    }\n",
       "</style>\n",
       "<table border=\"1\" class=\"dataframe\">\n",
       "  <thead>\n",
       "    <tr style=\"text-align: right;\">\n",
       "      <th></th>\n",
       "      <th>season</th>\n",
       "      <th>holiday</th>\n",
       "      <th>workingday</th>\n",
       "      <th>weather</th>\n",
       "      <th>temp</th>\n",
       "      <th>atemp</th>\n",
       "      <th>humidity</th>\n",
       "      <th>windspeed</th>\n",
       "      <th>casual</th>\n",
       "      <th>registered</th>\n",
       "      <th>...</th>\n",
       "      <th>time_14:00:00</th>\n",
       "      <th>time_15:00:00</th>\n",
       "      <th>time_16:00:00</th>\n",
       "      <th>time_17:00:00</th>\n",
       "      <th>time_18:00:00</th>\n",
       "      <th>time_19:00:00</th>\n",
       "      <th>time_20:00:00</th>\n",
       "      <th>time_21:00:00</th>\n",
       "      <th>time_22:00:00</th>\n",
       "      <th>time_23:00:00</th>\n",
       "    </tr>\n",
       "  </thead>\n",
       "  <tbody>\n",
       "    <tr>\n",
       "      <th>0</th>\n",
       "      <td>1</td>\n",
       "      <td>0</td>\n",
       "      <td>0</td>\n",
       "      <td>1</td>\n",
       "      <td>9.84</td>\n",
       "      <td>14.395</td>\n",
       "      <td>81</td>\n",
       "      <td>0.0</td>\n",
       "      <td>3</td>\n",
       "      <td>13</td>\n",
       "      <td>...</td>\n",
       "      <td>False</td>\n",
       "      <td>False</td>\n",
       "      <td>False</td>\n",
       "      <td>False</td>\n",
       "      <td>False</td>\n",
       "      <td>False</td>\n",
       "      <td>False</td>\n",
       "      <td>False</td>\n",
       "      <td>False</td>\n",
       "      <td>False</td>\n",
       "    </tr>\n",
       "    <tr>\n",
       "      <th>1</th>\n",
       "      <td>1</td>\n",
       "      <td>0</td>\n",
       "      <td>0</td>\n",
       "      <td>1</td>\n",
       "      <td>9.02</td>\n",
       "      <td>13.635</td>\n",
       "      <td>80</td>\n",
       "      <td>0.0</td>\n",
       "      <td>8</td>\n",
       "      <td>32</td>\n",
       "      <td>...</td>\n",
       "      <td>False</td>\n",
       "      <td>False</td>\n",
       "      <td>False</td>\n",
       "      <td>False</td>\n",
       "      <td>False</td>\n",
       "      <td>False</td>\n",
       "      <td>False</td>\n",
       "      <td>False</td>\n",
       "      <td>False</td>\n",
       "      <td>False</td>\n",
       "    </tr>\n",
       "    <tr>\n",
       "      <th>2</th>\n",
       "      <td>1</td>\n",
       "      <td>0</td>\n",
       "      <td>0</td>\n",
       "      <td>1</td>\n",
       "      <td>9.02</td>\n",
       "      <td>13.635</td>\n",
       "      <td>80</td>\n",
       "      <td>0.0</td>\n",
       "      <td>5</td>\n",
       "      <td>27</td>\n",
       "      <td>...</td>\n",
       "      <td>False</td>\n",
       "      <td>False</td>\n",
       "      <td>False</td>\n",
       "      <td>False</td>\n",
       "      <td>False</td>\n",
       "      <td>False</td>\n",
       "      <td>False</td>\n",
       "      <td>False</td>\n",
       "      <td>False</td>\n",
       "      <td>False</td>\n",
       "    </tr>\n",
       "  </tbody>\n",
       "</table>\n",
       "<p>3 rows × 59 columns</p>\n",
       "</div>"
      ],
      "text/plain": [
       "   season  holiday  workingday  weather  temp   atemp  humidity  windspeed  \\\n",
       "0       1        0           0        1  9.84  14.395        81        0.0   \n",
       "1       1        0           0        1  9.02  13.635        80        0.0   \n",
       "2       1        0           0        1  9.02  13.635        80        0.0   \n",
       "\n",
       "   casual  registered  ...  time_14:00:00  time_15:00:00  time_16:00:00  \\\n",
       "0       3          13  ...          False          False          False   \n",
       "1       8          32  ...          False          False          False   \n",
       "2       5          27  ...          False          False          False   \n",
       "\n",
       "   time_17:00:00  time_18:00:00  time_19:00:00  time_20:00:00  time_21:00:00  \\\n",
       "0          False          False          False          False          False   \n",
       "1          False          False          False          False          False   \n",
       "2          False          False          False          False          False   \n",
       "\n",
       "   time_22:00:00  time_23:00:00  \n",
       "0          False          False  \n",
       "1          False          False  \n",
       "2          False          False  \n",
       "\n",
       "[3 rows x 59 columns]"
      ]
     },
     "metadata": {},
     "output_type": "display_data"
    },
    {
     "name": "stdout",
     "output_type": "stream",
     "text": [
      "The size of the dataframe is\n",
      " We have 10886 rows, and 59 columns\n"
     ]
    }
   ],
   "source": [
    "ecnoded_df = pd.get_dummies(df)\n",
    "print('The new df is')\n",
    "display(ecnoded_df.head(3))\n",
    "print('The size of the dataframe is')\n",
    "print(' We have', ecnoded_df.shape[0], 'rows, and', ecnoded_df.shape[1], 'columns')"
   ]
  },
  {
   "cell_type": "code",
   "execution_count": 26,
   "metadata": {},
   "outputs": [
    {
     "data": {
      "text/html": [
       "<div>\n",
       "<style scoped>\n",
       "    .dataframe tbody tr th:only-of-type {\n",
       "        vertical-align: middle;\n",
       "    }\n",
       "\n",
       "    .dataframe tbody tr th {\n",
       "        vertical-align: top;\n",
       "    }\n",
       "\n",
       "    .dataframe thead th {\n",
       "        text-align: right;\n",
       "    }\n",
       "</style>\n",
       "<table border=\"1\" class=\"dataframe\">\n",
       "  <thead>\n",
       "    <tr style=\"text-align: right;\">\n",
       "      <th></th>\n",
       "      <th>season</th>\n",
       "      <th>holiday</th>\n",
       "      <th>workingday</th>\n",
       "      <th>weather</th>\n",
       "      <th>temp</th>\n",
       "      <th>atemp</th>\n",
       "      <th>humidity</th>\n",
       "      <th>windspeed</th>\n",
       "      <th>casual</th>\n",
       "      <th>registered</th>\n",
       "      <th>...</th>\n",
       "      <th>time_14:00:00</th>\n",
       "      <th>time_15:00:00</th>\n",
       "      <th>time_16:00:00</th>\n",
       "      <th>time_17:00:00</th>\n",
       "      <th>time_18:00:00</th>\n",
       "      <th>time_19:00:00</th>\n",
       "      <th>time_20:00:00</th>\n",
       "      <th>time_21:00:00</th>\n",
       "      <th>time_22:00:00</th>\n",
       "      <th>time_23:00:00</th>\n",
       "    </tr>\n",
       "  </thead>\n",
       "  <tbody>\n",
       "    <tr>\n",
       "      <th>4682</th>\n",
       "      <td>4</td>\n",
       "      <td>0</td>\n",
       "      <td>1</td>\n",
       "      <td>1</td>\n",
       "      <td>12.30</td>\n",
       "      <td>16.665</td>\n",
       "      <td>87</td>\n",
       "      <td>0.0000</td>\n",
       "      <td>0</td>\n",
       "      <td>4</td>\n",
       "      <td>...</td>\n",
       "      <td>False</td>\n",
       "      <td>False</td>\n",
       "      <td>False</td>\n",
       "      <td>False</td>\n",
       "      <td>False</td>\n",
       "      <td>False</td>\n",
       "      <td>False</td>\n",
       "      <td>False</td>\n",
       "      <td>False</td>\n",
       "      <td>False</td>\n",
       "    </tr>\n",
       "    <tr>\n",
       "      <th>5188</th>\n",
       "      <td>4</td>\n",
       "      <td>0</td>\n",
       "      <td>0</td>\n",
       "      <td>1</td>\n",
       "      <td>9.84</td>\n",
       "      <td>12.880</td>\n",
       "      <td>65</td>\n",
       "      <td>7.0015</td>\n",
       "      <td>1</td>\n",
       "      <td>10</td>\n",
       "      <td>...</td>\n",
       "      <td>False</td>\n",
       "      <td>False</td>\n",
       "      <td>False</td>\n",
       "      <td>False</td>\n",
       "      <td>False</td>\n",
       "      <td>False</td>\n",
       "      <td>False</td>\n",
       "      <td>False</td>\n",
       "      <td>False</td>\n",
       "      <td>False</td>\n",
       "    </tr>\n",
       "    <tr>\n",
       "      <th>6212</th>\n",
       "      <td>1</td>\n",
       "      <td>0</td>\n",
       "      <td>1</td>\n",
       "      <td>1</td>\n",
       "      <td>12.30</td>\n",
       "      <td>16.665</td>\n",
       "      <td>61</td>\n",
       "      <td>0.0000</td>\n",
       "      <td>0</td>\n",
       "      <td>4</td>\n",
       "      <td>...</td>\n",
       "      <td>False</td>\n",
       "      <td>False</td>\n",
       "      <td>False</td>\n",
       "      <td>False</td>\n",
       "      <td>False</td>\n",
       "      <td>False</td>\n",
       "      <td>False</td>\n",
       "      <td>False</td>\n",
       "      <td>False</td>\n",
       "      <td>False</td>\n",
       "    </tr>\n",
       "    <tr>\n",
       "      <th>9450</th>\n",
       "      <td>3</td>\n",
       "      <td>0</td>\n",
       "      <td>1</td>\n",
       "      <td>1</td>\n",
       "      <td>20.50</td>\n",
       "      <td>24.240</td>\n",
       "      <td>77</td>\n",
       "      <td>6.0032</td>\n",
       "      <td>0</td>\n",
       "      <td>7</td>\n",
       "      <td>...</td>\n",
       "      <td>False</td>\n",
       "      <td>False</td>\n",
       "      <td>False</td>\n",
       "      <td>False</td>\n",
       "      <td>False</td>\n",
       "      <td>False</td>\n",
       "      <td>False</td>\n",
       "      <td>False</td>\n",
       "      <td>False</td>\n",
       "      <td>False</td>\n",
       "    </tr>\n",
       "  </tbody>\n",
       "</table>\n",
       "<p>4 rows × 59 columns</p>\n",
       "</div>"
      ],
      "text/plain": [
       "      season  holiday  workingday  weather   temp   atemp  humidity  \\\n",
       "4682       4        0           1        1  12.30  16.665        87   \n",
       "5188       4        0           0        1   9.84  12.880        65   \n",
       "6212       1        0           1        1  12.30  16.665        61   \n",
       "9450       3        0           1        1  20.50  24.240        77   \n",
       "\n",
       "      windspeed  casual  registered  ...  time_14:00:00  time_15:00:00  \\\n",
       "4682     0.0000       0           4  ...          False          False   \n",
       "5188     7.0015       1          10  ...          False          False   \n",
       "6212     0.0000       0           4  ...          False          False   \n",
       "9450     6.0032       0           7  ...          False          False   \n",
       "\n",
       "      time_16:00:00  time_17:00:00  time_18:00:00  time_19:00:00  \\\n",
       "4682          False          False          False          False   \n",
       "5188          False          False          False          False   \n",
       "6212          False          False          False          False   \n",
       "9450          False          False          False          False   \n",
       "\n",
       "      time_20:00:00  time_21:00:00  time_22:00:00  time_23:00:00  \n",
       "4682          False          False          False          False  \n",
       "5188          False          False          False          False  \n",
       "6212          False          False          False          False  \n",
       "9450          False          False          False          False  \n",
       "\n",
       "[4 rows x 59 columns]"
      ]
     },
     "execution_count": 26,
     "metadata": {},
     "output_type": "execute_result"
    }
   ],
   "source": [
    "ecnoded_df.loc[ecnoded_df.duplicated()]"
   ]
  },
  {
   "cell_type": "code",
   "execution_count": 27,
   "metadata": {},
   "outputs": [],
   "source": [
    "# يبدو انه ظهر لدينا تكرار بعد عملية فصل عمود التارخ والوقت الى عمودين وازالة اليوم من التاريخ, سوف اقوم باكمال التدريب على مجموعة البيانات دون حذف التكرار, وبعد ذلك سوف اقوم بتدريب النموذج مرة ثانية بعد عملية حذف التكرار لمقارنة النتائج"
   ]
  },
  {
   "cell_type": "markdown",
   "metadata": {},
   "source": [
    "2. Exploratory Data Analysis (EDA):\n",
    "\n",
    "        1- Analyze the Target Variable\n",
    "\n",
    "        2- Analyze Relationships:\n",
    "\n",
    "             - Usescatter plots or bar charts to analyze relationships between features and the target variable.\n",
    "\n",
    "         3- Correlation Analysis:\n",
    "  \n",
    "             - Create a correlation heatmap to identify features strongly correlated with the target variable."
   ]
  },
  {
   "cell_type": "code",
   "execution_count": 28,
   "metadata": {},
   "outputs": [
    {
     "data": {
      "image/png": "[encoded data removed]",
      "text/plain": [
       "<Figure size 1600x800 with 1 Axes>"
      ]
     },
     "metadata": {},
     "output_type": "display_data"
    },
    {
     "name": "stdout",
     "output_type": "stream",
     "text": [
      "count    10886.000000\n",
      "mean       191.574132\n",
      "std        181.144454\n",
      "min          1.000000\n",
      "25%         42.000000\n",
      "50%        145.000000\n",
      "75%        284.000000\n",
      "85%        378.000000\n",
      "90%        452.000000\n",
      "100%       977.000000\n",
      "max        977.000000\n",
      "Name: count, dtype: float64\n"
     ]
    }
   ],
   "source": [
    "# 1- Analyze the Target Variable\n",
    "import matplotlib.pyplot as plt  # For plotting 1 - المكتبة الأولى للرسم\n",
    "import seaborn as sns            # For plotting 2 - المكتبة الثانية للرسم\n",
    "plt.figure(figsize=(16,8))\n",
    "plt.title('Distribution of Number of total rentals')\n",
    "sns.histplot(ecnoded_df['count'])\n",
    "plt.show()\n",
    "print(ecnoded_df['count'].describe(percentiles = [0.25,0.50,0.75,0.85,0.90,1]))\n"
   ]
  },
  {
   "cell_type": "code",
   "execution_count": 29,
   "metadata": {},
   "outputs": [],
   "source": [
    "# على الرغم من متوسط عدد الايجارات هو 191 إلا أن الانحراف المعياري std.\n",
    "# عالي القيمة مما يعني أن هناك تباين كبير في القيم، وهو ما يمكن ملاحظته حين النظر إلى الطرف اليمين من الرسمة سوف نلاحظ وجود عدد ايجارات اعلى من 900\n",
    "# This kind of distribution (long tail)\n"
   ]
  },
  {
   "cell_type": "code",
   "execution_count": 30,
   "metadata": {},
   "outputs": [
    {
     "data": {
      "image/png": "[encoded data removed]",
      "text/plain": [
       "<Figure size 1400x1000 with 4 Axes>"
      ]
     },
     "metadata": {},
     "output_type": "display_data"
    }
   ],
   "source": [
    "# 2- Analyze Relationships:  - Usescatter plots or bar charts to analyze relationships between features and the target variable.\n",
    "\n",
    "#  Scatter Plot\n",
    "\n",
    "# To create a scatter plot for some features and count (target) in the dataset\n",
    "# Multifigure Plots (Subplots)\n",
    "# لتوضيح العلاقة بين التارغيت وبعض الفيتشرز \n",
    "\n",
    "# Complex Multi-Figure Plot\n",
    "plt.figure(figsize=(14, 10))\n",
    "plt.subplot(2, 2, 1)\n",
    "plt.scatter(ecnoded_df['season'], ecnoded_df['count'])\n",
    "plt.title('season vs count')\n",
    "plt.xlabel('season')\n",
    "plt.ylabel('count')\n",
    "\n",
    "plt.subplot(2, 2, 2)\n",
    "plt.scatter(ecnoded_df['registered'], ecnoded_df['count'])\n",
    "plt.title('registered vs count')\n",
    "plt.xlabel('registered')\n",
    "plt.ylabel('count')\n",
    "\n",
    "plt.subplot(2, 2, 3)\n",
    "plt.scatter(ecnoded_df['casual'], ecnoded_df['count'])\n",
    "plt.title('casual vs count')\n",
    "plt.xlabel('casual')\n",
    "plt.ylabel('count')\n",
    "\n",
    "plt.subplot(2, 2, 4)\n",
    "plt.scatter(ecnoded_df['humidity'], ecnoded_df['count'])\n",
    "plt.title('humidity vs count')\n",
    "plt.xlabel('humidity')\n",
    "plt.ylabel('count')\n",
    "plt.show()\n"
   ]
  },
  {
   "cell_type": "code",
   "execution_count": 31,
   "metadata": {},
   "outputs": [],
   "source": [
    "#  يبدو ان اكثرهم علاقة بارتفاع عدد الايجارات هو registered\n",
    "# ثم يليه casual\n",
    "\n",
    "# season يبدو انه لا يؤثر على عدد الايجارات\n",
    "# وسوف نتأكد من ذلك عند عمل Correlation map"
   ]
  },
  {
   "cell_type": "code",
   "execution_count": 32,
   "metadata": {},
   "outputs": [
    {
     "data": {
      "image/png": "[encoded data removed]",
      "text/plain": [
       "<Figure size 1600x600 with 4 Axes>"
      ]
     },
     "metadata": {},
     "output_type": "display_data"
    }
   ],
   "source": [
    "plt.figure(figsize=(16, 6))\n",
    "plt.subplot(2,2,1)\n",
    "ecnoded_df['atemp'].value_counts().plot(kind  = 'bar', color = 'darkblue')\n",
    "plt.xlabel('atemp')\n",
    "plt.ylabel('Count')\n",
    "\n",
    "plt.subplot(2,2,2)\n",
    "ecnoded_df['weather'].value_counts().plot(kind = 'bar', color = 'purple')\n",
    "plt.xlabel('weather')\n",
    "plt.ylabel('Count')\n",
    "\n",
    "plt.subplot(2,2,3)\n",
    "ecnoded_df['workingday'].value_counts().plot(kind = 'bar', color = 'red')\n",
    "plt.xlabel('workingday')\n",
    "plt.ylabel('Count')\n",
    "\n",
    "plt.subplot(2,2,4)\n",
    "ecnoded_df['windspeed'].value_counts().plot(kind = 'bar', color = 'green')\n",
    "plt.xlabel('windspeed')\n",
    "plt.ylabel('Count')\n",
    "plt.show()\n"
   ]
  },
  {
   "cell_type": "code",
   "execution_count": 33,
   "metadata": {},
   "outputs": [],
   "source": [
    "# نستنتج من الرسمات أن معظم المركبات في مجموعة البيانات المستخدمة تم تأجيرها في الايام التي كانوا يشعروا وكأن درجة الحرارة تبلغ 31.06 , وعندما كان الطقس 1: صافٍ، غيوم قليلة، غائم جزئيًا، غائم جزئيًا، وعندما كان اليوم هو يوم عمل وليس يوم عطلة , وعندما كانت سرعة الهواء منخفضة جدا . \n",
    "# من هذا نستطيع أن نقول بشكل مبدئي أن هذا النموذج مناسب لتوقع تأجيرات الدراجات عندما تكون درجة الحرارة 31 والطقس : صافٍ، غيوم قليلة، غائم جزئيًا, وفي ايام العمل , وعندما تنخفض سرعة الهواء ."
   ]
  },
  {
   "cell_type": "code",
   "execution_count": 34,
   "metadata": {},
   "outputs": [
    {
     "name": "stdout",
     "output_type": "stream",
     "text": [
      "                 season   holiday  workingday   weather      temp     atemp  \\\n",
      "season         1.000000  0.029368   -0.008126  0.008879  0.258689  0.264744   \n",
      "holiday        0.029368  1.000000   -0.250491 -0.007074  0.000295 -0.005215   \n",
      "workingday    -0.008126 -0.250491    1.000000  0.033772  0.029966  0.024660   \n",
      "weather        0.008879 -0.007074    0.033772  1.000000 -0.055035 -0.055376   \n",
      "temp           0.258689  0.000295    0.029966 -0.055035  1.000000  0.984948   \n",
      "atemp          0.264744 -0.005215    0.024660 -0.055376  0.984948  1.000000   \n",
      "humidity       0.190610  0.001929   -0.010880  0.406244 -0.064949 -0.043536   \n",
      "windspeed     -0.147121  0.008409    0.013373  0.007261 -0.017852 -0.057473   \n",
      "casual         0.096758  0.043799   -0.319111 -0.135918  0.467097  0.462067   \n",
      "registered     0.164011 -0.020956    0.119460 -0.109340  0.318571  0.314635   \n",
      "count          0.163439 -0.005393    0.011594 -0.128655  0.394454  0.389784   \n",
      "date_2011_01  -0.274073  0.033048   -0.029770  0.007178 -0.302217 -0.308768   \n",
      "date_2011_02  -0.279002 -0.035445    0.023194 -0.012882 -0.236097 -0.235493   \n",
      "date_2011_03  -0.279002 -0.035445    0.024189  0.015634 -0.163619 -0.164866   \n",
      "date_2011_04  -0.094800  0.030312   -0.022450  0.066350 -0.065782 -0.059526   \n",
      "date_2011_05  -0.094909 -0.035858    0.025105  0.036316  0.034827  0.044415   \n",
      "date_2011_06  -0.094909 -0.035858    0.001496 -0.046159  0.213629  0.209627   \n",
      "date_2011_07   0.092430  0.030202   -0.022112 -0.077268  0.261309  0.255539   \n",
      "date_2011_08   0.092430 -0.035858    0.048714 -0.024455  0.253250  0.241969   \n",
      "date_2011_09   0.092113  0.030534   -0.023127  0.065646  0.131327  0.123885   \n",
      "date_2011_10   0.279449  0.030312   -0.022450  0.038105  0.018036  0.027237   \n",
      "date_2011_11   0.279769  0.030202    0.001496 -0.028072 -0.112557 -0.104563   \n",
      "date_2011_12   0.279769 -0.035858    0.001496 -0.008539 -0.196818 -0.187652   \n",
      "date_2012_01  -0.281277  0.094041   -0.022140 -0.018541 -0.247208 -0.254044   \n",
      "date_2012_02  -0.281924 -0.035816    0.001184  0.038830 -0.213756 -0.211962   \n",
      "date_2012_03  -0.281924 -0.035816    0.002168 -0.018384 -0.067715 -0.063049   \n",
      "date_2012_04  -0.094691  0.030423    0.000870 -0.057249 -0.015233 -0.006912   \n",
      "date_2012_05  -0.094909 -0.035858    0.025105  0.035592  0.096310  0.102509   \n",
      "date_2012_06  -0.094909 -0.035858    0.001496 -0.025902  0.153160  0.152276   \n",
      "date_2012_07   0.092430  0.030202    0.001496 -0.030243  0.308218  0.299397   \n",
      "date_2012_08   0.092430 -0.035858    0.001496 -0.019391  0.256966  0.225205   \n",
      "date_2012_09   0.092430  0.030202   -0.022112 -0.016497  0.165900  0.168432   \n",
      "date_2012_10   0.279769  0.030202    0.025105  0.034145  0.019674  0.026256   \n",
      "date_2012_11   0.279449  0.030312   -0.022450 -0.011142 -0.158103 -0.158292   \n",
      "date_2012_12   0.279769 -0.035858    0.001496  0.057296 -0.146677 -0.134980   \n",
      "time_00:00:00 -0.000621  0.000003    0.000199 -0.008245 -0.032641 -0.029390   \n",
      "time_01:00:00 -0.000825  0.000082   -0.000115  0.004375 -0.042606 -0.040462   \n",
      "time_02:00:00  0.002916  0.000558   -0.000032 -0.005440 -0.047208 -0.044799   \n",
      "time_03:00:00  0.009112 -0.001045   -0.005867 -0.005324 -0.046941 -0.044218   \n",
      "time_04:00:00  0.007121  0.001041   -0.003941  0.002978 -0.057946 -0.055892   \n",
      "time_05:00:00  0.001242  0.000240    0.002217  0.001359 -0.070012 -0.068109   \n",
      "time_06:00:00 -0.000621  0.000003    0.000199  0.010585 -0.073705 -0.072270   \n",
      "time_07:00:00 -0.000621  0.000003    0.000199  0.020000 -0.065492 -0.064558   \n",
      "time_08:00:00 -0.000621  0.000003    0.000199  0.015654 -0.047424 -0.045680   \n",
      "time_09:00:00 -0.000621  0.000003    0.000199  0.018551 -0.023366 -0.022249   \n",
      "time_10:00:00 -0.000621  0.000003    0.000199  0.012033  0.002384  0.001015   \n",
      "time_11:00:00 -0.000621  0.000003    0.000199  0.004791  0.027650  0.026005   \n",
      "time_12:00:00 -0.001239 -0.000075    0.000513  0.006654  0.047520  0.045564   \n",
      "time_13:00:00 -0.001239 -0.000075    0.000513  0.000143  0.066003  0.064008   \n",
      "time_14:00:00 -0.001239 -0.000075    0.000513 -0.000581  0.078261  0.075487   \n",
      "time_15:00:00 -0.001239 -0.000075    0.000513 -0.001304  0.081880  0.078396   \n",
      "time_16:00:00 -0.001239 -0.000075    0.000513 -0.012156  0.077489  0.073191   \n",
      "time_17:00:00 -0.001239 -0.000075    0.000513 -0.002028  0.065038  0.060075   \n",
      "time_18:00:00 -0.001239 -0.000075    0.000513  0.001590  0.050367  0.047119   \n",
      "time_19:00:00 -0.001239 -0.000075    0.000513 -0.016497  0.030436  0.029169   \n",
      "time_20:00:00 -0.001239 -0.000075    0.000513 -0.017944  0.013931  0.015231   \n",
      "time_21:00:00 -0.001239 -0.000075    0.000513 -0.013603 -0.000354  0.001621   \n",
      "time_22:00:00 -0.001239 -0.000075    0.000513 -0.014327 -0.012467 -0.010430   \n",
      "time_23:00:00 -0.001239 -0.000075    0.000513 -0.001304 -0.023808 -0.021702   \n",
      "\n",
      "               humidity  windspeed    casual  registered  ...  time_14:00:00  \\\n",
      "season         0.190610  -0.147121  0.096758    0.164011  ...      -0.001239   \n",
      "holiday        0.001929   0.008409  0.043799   -0.020956  ...      -0.000075   \n",
      "workingday    -0.010880   0.013373 -0.319111    0.119460  ...       0.000513   \n",
      "weather        0.406244   0.007261 -0.135918   -0.109340  ...      -0.000581   \n",
      "temp          -0.064949  -0.017852  0.467097    0.318571  ...       0.078261   \n",
      "atemp         -0.043536  -0.057473  0.462067    0.314635  ...       0.075487   \n",
      "humidity       1.000000  -0.318607 -0.348187   -0.265458  ...      -0.146758   \n",
      "windspeed     -0.318607   1.000000  0.092276    0.091052  ...       0.076080   \n",
      "casual        -0.348187   0.092276  1.000000    0.497250  ...       0.169792   \n",
      "registered    -0.265458   0.091052  0.497250    1.000000  ...       0.015645   \n",
      "count         -0.317371   0.101369  0.690414    0.970948  ...       0.059874   \n",
      "date_2011_01  -0.058850   0.023637 -0.127464   -0.141916  ...       0.002224   \n",
      "date_2011_02  -0.089207   0.068606 -0.114004   -0.123682  ...       0.000735   \n",
      "date_2011_03  -0.064041   0.081886 -0.075656   -0.118291  ...       0.000735   \n",
      "date_2011_04   0.047744   0.077892 -0.038231   -0.098739  ...      -0.000136   \n",
      "date_2011_05   0.103596  -0.011372 -0.005149   -0.021507  ...      -0.000232   \n",
      "date_2011_06  -0.039058  -0.022264  0.029132   -0.002295  ...      -0.000232   \n",
      "date_2011_07  -0.016113  -0.021478  0.089205   -0.012839  ...      -0.000232   \n",
      "date_2011_08   0.003045  -0.008166  0.010592   -0.015835  ...      -0.000232   \n",
      "date_2011_09   0.140152  -0.033128  0.018351   -0.029458  ...       0.000056   \n",
      "date_2011_10   0.105110  -0.046752  0.007066   -0.025570  ...      -0.000136   \n",
      "date_2011_11   0.024346  -0.017599 -0.057558   -0.030961  ...      -0.000232   \n",
      "date_2011_12   0.036879  -0.051127 -0.104148   -0.045018  ...      -0.000232   \n",
      "date_2012_01  -0.068782   0.065753 -0.101963   -0.059016  ...       0.000056   \n",
      "date_2012_02  -0.031780  -0.008972 -0.099865   -0.030478  ...      -0.000136   \n",
      "date_2012_03  -0.048500   0.048772  0.006946    0.020800  ...      -0.000136   \n",
      "date_2012_04  -0.182125   0.064340  0.103291    0.056833  ...      -0.000040   \n",
      "date_2012_05   0.031089  -0.014517  0.082551    0.073114  ...      -0.000232   \n",
      "date_2012_06  -0.028884  -0.000810  0.115171    0.094272  ...      -0.000232   \n",
      "date_2012_07  -0.059598  -0.069671  0.076878    0.079044  ...      -0.000232   \n",
      "date_2012_08   0.021392  -0.036306  0.108893    0.094112  ...      -0.000232   \n",
      "date_2012_09   0.057252  -0.029451  0.102468    0.105967  ...      -0.000232   \n",
      "date_2012_10   0.058372  -0.033778  0.041321    0.109456  ...      -0.000232   \n",
      "date_2012_11  -0.049669   0.034377 -0.010952    0.059498  ...      -0.000136   \n",
      "date_2012_12   0.104311  -0.057306 -0.062459    0.055936  ...      -0.000232   \n",
      "time_00:00:00  0.067208  -0.053666 -0.107482   -0.153117  ...      -0.043670   \n",
      "time_01:00:00  0.083417  -0.060829 -0.123222   -0.177086  ...      -0.043620   \n",
      "time_02:00:00  0.094050  -0.067857 -0.129395   -0.188571  ...      -0.043318   \n",
      "time_03:00:00  0.110064  -0.065464 -0.135829   -0.197388  ...      -0.042556   \n",
      "time_04:00:00  0.125649  -0.052457 -0.143135   -0.204870  ...      -0.043015   \n",
      "time_05:00:00  0.124625  -0.069776 -0.144009   -0.189128  ...      -0.043520   \n",
      "time_06:00:00  0.130751  -0.060526 -0.133245   -0.115388  ...      -0.043670   \n",
      "time_07:00:00  0.112933  -0.049120 -0.104965    0.064510  ...      -0.043670   \n",
      "time_08:00:00  0.083213  -0.025895 -0.060531    0.256759  ...      -0.043670   \n",
      "time_09:00:00  0.038776   0.003341 -0.021178    0.048776  ...      -0.043670   \n",
      "time_10:00:00 -0.011243   0.021836  0.042210   -0.036754  ...      -0.043670   \n",
      "time_11:00:00 -0.059401   0.031735  0.100463   -0.006818  ...      -0.043670   \n",
      "time_12:00:00 -0.097722   0.045248  0.137319    0.044475  ...      -0.043720   \n",
      "time_13:00:00 -0.128435   0.061366  0.159200    0.039008  ...      -0.043720   \n",
      "time_14:00:00 -0.146758   0.076080  0.169792    0.015645  ...       1.000000   \n",
      "time_15:00:00 -0.150047   0.079278  0.167442    0.031451  ...      -0.043720   \n",
      "time_16:00:00 -0.145353   0.085403  0.163486    0.118697  ...      -0.043720   \n",
      "time_17:00:00 -0.124575   0.077874  0.164982    0.329179  ...      -0.043720   \n",
      "time_18:00:00 -0.100366   0.063611  0.106204    0.296144  ...      -0.043720   \n",
      "time_19:00:00 -0.059264   0.036765  0.054630    0.153190  ...      -0.043720   \n",
      "time_20:00:00 -0.027645   0.007613  0.002974    0.050162  ...      -0.043720   \n",
      "time_21:00:00  0.005666  -0.019514 -0.031198   -0.014882  ...      -0.043720   \n",
      "time_22:00:00  0.029136  -0.024450 -0.056163   -0.061716  ...      -0.043720   \n",
      "time_23:00:00  0.051748  -0.044105 -0.086048   -0.112840  ...      -0.043720   \n",
      "\n",
      "               time_15:00:00  time_16:00:00  time_17:00:00  time_18:00:00  \\\n",
      "season             -0.001239      -0.001239      -0.001239      -0.001239   \n",
      "holiday            -0.000075      -0.000075      -0.000075      -0.000075   \n",
      "workingday          0.000513       0.000513       0.000513       0.000513   \n",
      "weather            -0.001304      -0.012156      -0.002028       0.001590   \n",
      "temp                0.081880       0.077489       0.065038       0.050367   \n",
      "atemp               0.078396       0.073191       0.060075       0.047119   \n",
      "humidity           -0.150047      -0.145353      -0.124575      -0.100366   \n",
      "windspeed           0.079278       0.085403       0.077874       0.063611   \n",
      "casual              0.167442       0.163486       0.164982       0.106204   \n",
      "registered          0.031451       0.118697       0.329179       0.296144   \n",
      "count               0.072405       0.144061       0.319974       0.276218   \n",
      "date_2011_01        0.002224       0.002224       0.002224       0.002224   \n",
      "date_2011_02        0.000735       0.000735       0.000735       0.000735   \n",
      "date_2011_03        0.000735       0.000735       0.000735       0.000735   \n",
      "date_2011_04       -0.000136      -0.000136      -0.000136      -0.000136   \n",
      "date_2011_05       -0.000232      -0.000232      -0.000232      -0.000232   \n",
      "date_2011_06       -0.000232      -0.000232      -0.000232      -0.000232   \n",
      "date_2011_07       -0.000232      -0.000232      -0.000232      -0.000232   \n",
      "date_2011_08       -0.000232      -0.000232      -0.000232      -0.000232   \n",
      "date_2011_09        0.000056       0.000056       0.000056       0.000056   \n",
      "date_2011_10       -0.000136      -0.000136      -0.000136      -0.000136   \n",
      "date_2011_11       -0.000232      -0.000232      -0.000232      -0.000232   \n",
      "date_2011_12       -0.000232      -0.000232      -0.000232      -0.000232   \n",
      "date_2012_01        0.000056       0.000056       0.000056       0.000056   \n",
      "date_2012_02       -0.000136      -0.000136      -0.000136      -0.000136   \n",
      "date_2012_03       -0.000136      -0.000136      -0.000136      -0.000136   \n",
      "date_2012_04       -0.000040      -0.000040      -0.000040      -0.000040   \n",
      "date_2012_05       -0.000232      -0.000232      -0.000232      -0.000232   \n",
      "date_2012_06       -0.000232      -0.000232      -0.000232      -0.000232   \n",
      "date_2012_07       -0.000232      -0.000232      -0.000232      -0.000232   \n",
      "date_2012_08       -0.000232      -0.000232      -0.000232      -0.000232   \n",
      "date_2012_09       -0.000232      -0.000232      -0.000232      -0.000232   \n",
      "date_2012_10       -0.000232      -0.000232      -0.000232      -0.000232   \n",
      "date_2012_11       -0.000136      -0.000136      -0.000136      -0.000136   \n",
      "date_2012_12       -0.000232      -0.000232      -0.000232      -0.000232   \n",
      "time_00:00:00      -0.043670      -0.043670      -0.043670      -0.043670   \n",
      "time_01:00:00      -0.043620      -0.043620      -0.043620      -0.043620   \n",
      "time_02:00:00      -0.043318      -0.043318      -0.043318      -0.043318   \n",
      "time_03:00:00      -0.042556      -0.042556      -0.042556      -0.042556   \n",
      "time_04:00:00      -0.043015      -0.043015      -0.043015      -0.043015   \n",
      "time_05:00:00      -0.043520      -0.043520      -0.043520      -0.043520   \n",
      "time_06:00:00      -0.043670      -0.043670      -0.043670      -0.043670   \n",
      "time_07:00:00      -0.043670      -0.043670      -0.043670      -0.043670   \n",
      "time_08:00:00      -0.043670      -0.043670      -0.043670      -0.043670   \n",
      "time_09:00:00      -0.043670      -0.043670      -0.043670      -0.043670   \n",
      "time_10:00:00      -0.043670      -0.043670      -0.043670      -0.043670   \n",
      "time_11:00:00      -0.043670      -0.043670      -0.043670      -0.043670   \n",
      "time_12:00:00      -0.043720      -0.043720      -0.043720      -0.043720   \n",
      "time_13:00:00      -0.043720      -0.043720      -0.043720      -0.043720   \n",
      "time_14:00:00      -0.043720      -0.043720      -0.043720      -0.043720   \n",
      "time_15:00:00       1.000000      -0.043720      -0.043720      -0.043720   \n",
      "time_16:00:00      -0.043720       1.000000      -0.043720      -0.043720   \n",
      "time_17:00:00      -0.043720      -0.043720       1.000000      -0.043720   \n",
      "time_18:00:00      -0.043720      -0.043720      -0.043720       1.000000   \n",
      "time_19:00:00      -0.043720      -0.043720      -0.043720      -0.043720   \n",
      "time_20:00:00      -0.043720      -0.043720      -0.043720      -0.043720   \n",
      "time_21:00:00      -0.043720      -0.043720      -0.043720      -0.043720   \n",
      "time_22:00:00      -0.043720      -0.043720      -0.043720      -0.043720   \n",
      "time_23:00:00      -0.043720      -0.043720      -0.043720      -0.043720   \n",
      "\n",
      "               time_19:00:00  time_20:00:00  time_21:00:00  time_22:00:00  \\\n",
      "season             -0.001239      -0.001239      -0.001239      -0.001239   \n",
      "holiday            -0.000075      -0.000075      -0.000075      -0.000075   \n",
      "workingday          0.000513       0.000513       0.000513       0.000513   \n",
      "weather            -0.016497      -0.017944      -0.013603      -0.014327   \n",
      "temp                0.030436       0.013931      -0.000354      -0.012467   \n",
      "atemp               0.029169       0.015231       0.001621      -0.010430   \n",
      "humidity           -0.059264      -0.027645       0.005666       0.029136   \n",
      "windspeed           0.036765       0.007613      -0.019514      -0.024450   \n",
      "casual              0.054630       0.002974      -0.031198      -0.056163   \n",
      "registered          0.153190       0.050162      -0.014882      -0.061716   \n",
      "count               0.142797       0.042645      -0.021013      -0.066949   \n",
      "date_2011_01        0.002224       0.002224       0.002224       0.002224   \n",
      "date_2011_02        0.000735       0.000735       0.000735       0.000735   \n",
      "date_2011_03        0.000735       0.000735       0.000735       0.000735   \n",
      "date_2011_04       -0.000136      -0.000136      -0.000136      -0.000136   \n",
      "date_2011_05       -0.000232      -0.000232      -0.000232      -0.000232   \n",
      "date_2011_06       -0.000232      -0.000232      -0.000232      -0.000232   \n",
      "date_2011_07       -0.000232      -0.000232      -0.000232      -0.000232   \n",
      "date_2011_08       -0.000232      -0.000232      -0.000232      -0.000232   \n",
      "date_2011_09        0.000056       0.000056       0.000056       0.000056   \n",
      "date_2011_10       -0.000136      -0.000136      -0.000136      -0.000136   \n",
      "date_2011_11       -0.000232      -0.000232      -0.000232      -0.000232   \n",
      "date_2011_12       -0.000232      -0.000232      -0.000232      -0.000232   \n",
      "date_2012_01        0.000056       0.000056       0.000056       0.000056   \n",
      "date_2012_02       -0.000136      -0.000136      -0.000136      -0.000136   \n",
      "date_2012_03       -0.000136      -0.000136      -0.000136      -0.000136   \n",
      "date_2012_04       -0.000040      -0.000040      -0.000040      -0.000040   \n",
      "date_2012_05       -0.000232      -0.000232      -0.000232      -0.000232   \n",
      "date_2012_06       -0.000232      -0.000232      -0.000232      -0.000232   \n",
      "date_2012_07       -0.000232      -0.000232      -0.000232      -0.000232   \n",
      "date_2012_08       -0.000232      -0.000232      -0.000232      -0.000232   \n",
      "date_2012_09       -0.000232      -0.000232      -0.000232      -0.000232   \n",
      "date_2012_10       -0.000232      -0.000232      -0.000232      -0.000232   \n",
      "date_2012_11       -0.000136      -0.000136      -0.000136      -0.000136   \n",
      "date_2012_12       -0.000232      -0.000232      -0.000232      -0.000232   \n",
      "time_00:00:00      -0.043670      -0.043670      -0.043670      -0.043670   \n",
      "time_01:00:00      -0.043620      -0.043620      -0.043620      -0.043620   \n",
      "time_02:00:00      -0.043318      -0.043318      -0.043318      -0.043318   \n",
      "time_03:00:00      -0.042556      -0.042556      -0.042556      -0.042556   \n",
      "time_04:00:00      -0.043015      -0.043015      -0.043015      -0.043015   \n",
      "time_05:00:00      -0.043520      -0.043520      -0.043520      -0.043520   \n",
      "time_06:00:00      -0.043670      -0.043670      -0.043670      -0.043670   \n",
      "time_07:00:00      -0.043670      -0.043670      -0.043670      -0.043670   \n",
      "time_08:00:00      -0.043670      -0.043670      -0.043670      -0.043670   \n",
      "time_09:00:00      -0.043670      -0.043670      -0.043670      -0.043670   \n",
      "time_10:00:00      -0.043670      -0.043670      -0.043670      -0.043670   \n",
      "time_11:00:00      -0.043670      -0.043670      -0.043670      -0.043670   \n",
      "time_12:00:00      -0.043720      -0.043720      -0.043720      -0.043720   \n",
      "time_13:00:00      -0.043720      -0.043720      -0.043720      -0.043720   \n",
      "time_14:00:00      -0.043720      -0.043720      -0.043720      -0.043720   \n",
      "time_15:00:00      -0.043720      -0.043720      -0.043720      -0.043720   \n",
      "time_16:00:00      -0.043720      -0.043720      -0.043720      -0.043720   \n",
      "time_17:00:00      -0.043720      -0.043720      -0.043720      -0.043720   \n",
      "time_18:00:00      -0.043720      -0.043720      -0.043720      -0.043720   \n",
      "time_19:00:00       1.000000      -0.043720      -0.043720      -0.043720   \n",
      "time_20:00:00      -0.043720       1.000000      -0.043720      -0.043720   \n",
      "time_21:00:00      -0.043720      -0.043720       1.000000      -0.043720   \n",
      "time_22:00:00      -0.043720      -0.043720      -0.043720       1.000000   \n",
      "time_23:00:00      -0.043720      -0.043720      -0.043720      -0.043720   \n",
      "\n",
      "               time_23:00:00  \n",
      "season             -0.001239  \n",
      "holiday            -0.000075  \n",
      "workingday          0.000513  \n",
      "weather            -0.001304  \n",
      "temp               -0.023808  \n",
      "atemp              -0.021702  \n",
      "humidity            0.051748  \n",
      "windspeed          -0.044105  \n",
      "casual             -0.086048  \n",
      "registered         -0.112840  \n",
      "count              -0.117819  \n",
      "date_2011_01        0.002224  \n",
      "date_2011_02        0.000735  \n",
      "date_2011_03        0.000735  \n",
      "date_2011_04       -0.000136  \n",
      "date_2011_05       -0.000232  \n",
      "date_2011_06       -0.000232  \n",
      "date_2011_07       -0.000232  \n",
      "date_2011_08       -0.000232  \n",
      "date_2011_09        0.000056  \n",
      "date_2011_10       -0.000136  \n",
      "date_2011_11       -0.000232  \n",
      "date_2011_12       -0.000232  \n",
      "date_2012_01        0.000056  \n",
      "date_2012_02       -0.000136  \n",
      "date_2012_03       -0.000136  \n",
      "date_2012_04       -0.000040  \n",
      "date_2012_05       -0.000232  \n",
      "date_2012_06       -0.000232  \n",
      "date_2012_07       -0.000232  \n",
      "date_2012_08       -0.000232  \n",
      "date_2012_09       -0.000232  \n",
      "date_2012_10       -0.000232  \n",
      "date_2012_11       -0.000136  \n",
      "date_2012_12       -0.000232  \n",
      "time_00:00:00      -0.043670  \n",
      "time_01:00:00      -0.043620  \n",
      "time_02:00:00      -0.043318  \n",
      "time_03:00:00      -0.042556  \n",
      "time_04:00:00      -0.043015  \n",
      "time_05:00:00      -0.043520  \n",
      "time_06:00:00      -0.043670  \n",
      "time_07:00:00      -0.043670  \n",
      "time_08:00:00      -0.043670  \n",
      "time_09:00:00      -0.043670  \n",
      "time_10:00:00      -0.043670  \n",
      "time_11:00:00      -0.043670  \n",
      "time_12:00:00      -0.043720  \n",
      "time_13:00:00      -0.043720  \n",
      "time_14:00:00      -0.043720  \n",
      "time_15:00:00      -0.043720  \n",
      "time_16:00:00      -0.043720  \n",
      "time_17:00:00      -0.043720  \n",
      "time_18:00:00      -0.043720  \n",
      "time_19:00:00      -0.043720  \n",
      "time_20:00:00      -0.043720  \n",
      "time_21:00:00      -0.043720  \n",
      "time_22:00:00      -0.043720  \n",
      "time_23:00:00       1.000000  \n",
      "\n",
      "[59 rows x 59 columns]\n"
     ]
    },
    {
     "data": {
      "text/plain": [
       "<Axes: title={'center': 'Correlation Map'}>"
      ]
     },
     "execution_count": 34,
     "metadata": {},
     "output_type": "execute_result"
    },
    {
     "data": {
      "image/png": "[encoded data removed]",
      "text/plain": [
       "<Figure size 2000x1600 with 2 Axes>"
      ]
     },
     "metadata": {},
     "output_type": "display_data"
    }
   ],
   "source": [
    "# 3- Correlation Analysis: - Create a correlation heatmap to identify features strongly correlated with the target variable.\n",
    "\n",
    "# Heatmap\n",
    "\n",
    "matrix=ecnoded_df.corr()\n",
    "print(matrix)\n",
    "\n",
    "import seaborn as sns\n",
    "import matplotlib.pyplot as plt\n",
    "plt.figure(figsize=(20,16))\n",
    "plt.title('Correlation Map')\n",
    "sns.heatmap(matrix, annot=False,cmap=\"YlGnBu\")\n"
   ]
  },
  {
   "cell_type": "code",
   "execution_count": 35,
   "metadata": {},
   "outputs": [
    {
     "data": {
      "text/plain": [
       "registered       0.970948\n",
       "casual           0.690414\n",
       "temp             0.394454\n",
       "atemp            0.389784\n",
       "time_17:00:00    0.319974\n",
       "Name: count, dtype: float64"
      ]
     },
     "execution_count": 35,
     "metadata": {},
     "output_type": "execute_result"
    }
   ],
   "source": [
    "# هذه الرسمة تمثل التوافق بين كل الأعمدة، الذي يهمنا هو صف (الايجارات). عند النظر إليه، نلاحظ أن قيم توافقه مع باقي الأعمدة تتراوح ما بين -1 و 1. إذا كانت القيمة قريبة من 1 فهذا يعني أن ارتفاع قيمة هذا العمود سيؤدي إلى ارتفاع فرصة الايجار, والعكس صحيح.\n",
    "\n",
    "# نستطيع إيجاد ماهي أعلى القيم المتوافقة مع قيمة ايجارات الدراجات إما إيجابيا أو سلبيا عن طريق التالي\n",
    "\n",
    "# أكثر 5 قيم التي ترفع من عدد الايجارات\n",
    "matrix['count'].sort_values(ascending=False)[1:6]\n"
   ]
  },
  {
   "cell_type": "code",
   "execution_count": 36,
   "metadata": {},
   "outputs": [
    {
     "data": {
      "text/plain": [
       "time_04:00:00   -0.210298\n",
       "time_03:00:00   -0.202045\n",
       "time_05:00:00   -0.197414\n",
       "time_02:00:00   -0.192919\n",
       "time_01:00:00   -0.181640\n",
       "Name: count, dtype: float64"
      ]
     },
     "execution_count": 36,
     "metadata": {},
     "output_type": "execute_result"
    }
   ],
   "source": [
    "# أكثر 5 القيم التي تنقص من عدد الايجارات\n",
    "matrix['count'].sort_values(ascending=True)[1:6]\n"
   ]
  },
  {
   "cell_type": "markdown",
   "metadata": {},
   "source": [
    " 3. Feature Engineering:\n",
    "\n",
    "        1- Create New Features:\n",
    "\n",
    "            - Generate at least one new feature from the existing data\n",
    "\n",
    "        2- Explain Feature Importance:\n",
    "        \n",
    "            - Briefly discuss why the new feature(s) might improve model performance."
   ]
  },
  {
   "cell_type": "code",
   "execution_count": 37,
   "metadata": {},
   "outputs": [],
   "source": [
    "# I added the time column and date column,and extracted it from the datetime column."
   ]
  },
  {
   "cell_type": "markdown",
   "metadata": {},
   "source": [
    " 4. Build and Evaluate a Linear Regression Model:\n",
    "\n",
    "      1- Train-Test Split:\n",
    "\n",
    "      2- Train the Model:\n",
    "\n",
    "         - Train a Linear Regression model on the training data.\n",
    "\n",
    "      3- Evaluate the Model:\n",
    "\n",
    "         - Usemetrics like MAE, RMSE, and R² Score to assess performance.\n",
    "         \n",
    "         - Plot and interpret residuals to evaluate how well the model fits the data."
   ]
  },
  {
   "cell_type": "code",
   "execution_count": 38,
   "metadata": {},
   "outputs": [],
   "source": [
    "# 1. Train-Test Split:\n",
    "# الآن، سوف نقوم بفصل البيانات على مرتين: الفصل الأول سنقوم بفصل العمود المستهدف (عدد الايجارات) عن باقي الأعمدة (المتغيرات المستقلة) عن طريق التالي\n",
    "# والسبب وراء هذا الفصل هو أننا نريد استخدام الأعمدة المستقلة لتوقع قيمة العمود المستهدف (عمود عدد الايجارات).\n",
    "# X(Columns) * (Parameters) >> leads to Y(Predictions)\n",
    "\n",
    "# Create X & y - \n",
    "# X represetns the independet variables - \n",
    "X = ecnoded_df.drop('count', axis = 1)\n",
    "\n",
    "# Targer variable -\n",
    "y = ecnoded_df['count']\n"
   ]
  },
  {
   "cell_type": "code",
   "execution_count": 39,
   "metadata": {},
   "outputs": [],
   "source": [
    "# الآن الفصل الثاني هو فصل (التدريب/الاختبار) والذي نقوم به في هذا الفصل هو أخذ نسبة من البيانات وفصلها عن طريق عدم وضعها في مرحلة تدريب النموذج. والسبب في قيام ذلك هو أننا نريد اختبار دقة عمل النموذج في الحياة الواقعية وإذا اختبرنا النموذج على نفس البيانات التي دربناه عليها سوف يحرز نتائج عالية بسهولة. ومن أجل ذلك نحن نبقي جزء من البيانات من غير تدريب لإجراء الاختبارات عليه .\n",
    "from sklearn.model_selection import train_test_split # for splitting the data - الكود المستخدم لفصل البيانات\n",
    "\n",
    "# We will make the test size = 30% - \n",
    "X_train, X_test, y_train, y_test = train_test_split(X, y, test_size=0.30, random_state=1204)\n"
   ]
  },
  {
   "cell_type": "code",
   "execution_count": 40,
   "metadata": {},
   "outputs": [
    {
     "data": {
      "text/plain": [
       "(7620, 3266, 10886)"
      ]
     },
     "execution_count": 40,
     "metadata": {},
     "output_type": "execute_result"
    }
   ],
   "source": [
    "len(X_train), len(X_test), len(X_train+X_test)"
   ]
  },
  {
   "cell_type": "code",
   "execution_count": 41,
   "metadata": {},
   "outputs": [],
   "source": [
    "# نلاحظ أن عملية الفصل انتجت لنا 4 متغيرات ووصفهم كالتالي\n",
    "# ●\tX_train: هي الصفوف التي سوف نستخدمها في تدريب النموذج.\n",
    "# ●\ty_train: هي عدد ايجارات الدراجات في الصفوف التي سوف ندرب النموذج عليها.\n",
    "# ●\tX_test: هي الصفوف التي نريد توقعها من أجل اختبار دقة النموذج\n",
    "# ●\ty_test: هي ايجارات الصفوف الحقيقة والتي سوف نقارن توقعات النموذج بها\n"
   ]
  },
  {
   "cell_type": "code",
   "execution_count": 42,
   "metadata": {},
   "outputs": [
    {
     "data": {
      "text/html": [
       "<div>\n",
       "<style scoped>\n",
       "    .dataframe tbody tr th:only-of-type {\n",
       "        vertical-align: middle;\n",
       "    }\n",
       "\n",
       "    .dataframe tbody tr th {\n",
       "        vertical-align: top;\n",
       "    }\n",
       "\n",
       "    .dataframe thead th {\n",
       "        text-align: right;\n",
       "    }\n",
       "</style>\n",
       "<table border=\"1\" class=\"dataframe\">\n",
       "  <thead>\n",
       "    <tr style=\"text-align: right;\">\n",
       "      <th></th>\n",
       "      <th>season</th>\n",
       "      <th>holiday</th>\n",
       "      <th>workingday</th>\n",
       "      <th>weather</th>\n",
       "      <th>temp</th>\n",
       "      <th>atemp</th>\n",
       "      <th>humidity</th>\n",
       "      <th>windspeed</th>\n",
       "      <th>casual</th>\n",
       "      <th>registered</th>\n",
       "      <th>...</th>\n",
       "      <th>time_14:00:00</th>\n",
       "      <th>time_15:00:00</th>\n",
       "      <th>time_16:00:00</th>\n",
       "      <th>time_17:00:00</th>\n",
       "      <th>time_18:00:00</th>\n",
       "      <th>time_19:00:00</th>\n",
       "      <th>time_20:00:00</th>\n",
       "      <th>time_21:00:00</th>\n",
       "      <th>time_22:00:00</th>\n",
       "      <th>time_23:00:00</th>\n",
       "    </tr>\n",
       "  </thead>\n",
       "  <tbody>\n",
       "    <tr>\n",
       "      <th>2569</th>\n",
       "      <td>2</td>\n",
       "      <td>0</td>\n",
       "      <td>1</td>\n",
       "      <td>1</td>\n",
       "      <td>22.96</td>\n",
       "      <td>26.515</td>\n",
       "      <td>68</td>\n",
       "      <td>15.0013</td>\n",
       "      <td>19</td>\n",
       "      <td>91</td>\n",
       "      <td>...</td>\n",
       "      <td>False</td>\n",
       "      <td>False</td>\n",
       "      <td>False</td>\n",
       "      <td>False</td>\n",
       "      <td>False</td>\n",
       "      <td>False</td>\n",
       "      <td>False</td>\n",
       "      <td>False</td>\n",
       "      <td>False</td>\n",
       "      <td>True</td>\n",
       "    </tr>\n",
       "    <tr>\n",
       "      <th>1279</th>\n",
       "      <td>1</td>\n",
       "      <td>0</td>\n",
       "      <td>1</td>\n",
       "      <td>1</td>\n",
       "      <td>14.76</td>\n",
       "      <td>17.425</td>\n",
       "      <td>71</td>\n",
       "      <td>12.9980</td>\n",
       "      <td>1</td>\n",
       "      <td>4</td>\n",
       "      <td>...</td>\n",
       "      <td>False</td>\n",
       "      <td>False</td>\n",
       "      <td>False</td>\n",
       "      <td>False</td>\n",
       "      <td>False</td>\n",
       "      <td>False</td>\n",
       "      <td>False</td>\n",
       "      <td>False</td>\n",
       "      <td>False</td>\n",
       "      <td>False</td>\n",
       "    </tr>\n",
       "    <tr>\n",
       "      <th>2733</th>\n",
       "      <td>3</td>\n",
       "      <td>0</td>\n",
       "      <td>0</td>\n",
       "      <td>1</td>\n",
       "      <td>32.80</td>\n",
       "      <td>34.850</td>\n",
       "      <td>33</td>\n",
       "      <td>15.0013</td>\n",
       "      <td>156</td>\n",
       "      <td>149</td>\n",
       "      <td>...</td>\n",
       "      <td>False</td>\n",
       "      <td>False</td>\n",
       "      <td>False</td>\n",
       "      <td>False</td>\n",
       "      <td>False</td>\n",
       "      <td>True</td>\n",
       "      <td>False</td>\n",
       "      <td>False</td>\n",
       "      <td>False</td>\n",
       "      <td>False</td>\n",
       "    </tr>\n",
       "  </tbody>\n",
       "</table>\n",
       "<p>3 rows × 58 columns</p>\n",
       "</div>"
      ],
      "text/plain": [
       "      season  holiday  workingday  weather   temp   atemp  humidity  \\\n",
       "2569       2        0           1        1  22.96  26.515        68   \n",
       "1279       1        0           1        1  14.76  17.425        71   \n",
       "2733       3        0           0        1  32.80  34.850        33   \n",
       "\n",
       "      windspeed  casual  registered  ...  time_14:00:00  time_15:00:00  \\\n",
       "2569    15.0013      19          91  ...          False          False   \n",
       "1279    12.9980       1           4  ...          False          False   \n",
       "2733    15.0013     156         149  ...          False          False   \n",
       "\n",
       "      time_16:00:00  time_17:00:00  time_18:00:00  time_19:00:00  \\\n",
       "2569          False          False          False          False   \n",
       "1279          False          False          False          False   \n",
       "2733          False          False          False           True   \n",
       "\n",
       "      time_20:00:00  time_21:00:00  time_22:00:00  time_23:00:00  \n",
       "2569          False          False          False           True  \n",
       "1279          False          False          False          False  \n",
       "2733          False          False          False          False  \n",
       "\n",
       "[3 rows x 58 columns]"
      ]
     },
     "execution_count": 42,
     "metadata": {},
     "output_type": "execute_result"
    }
   ],
   "source": [
    "X_train.head(3)"
   ]
  },
  {
   "cell_type": "code",
   "execution_count": 43,
   "metadata": {},
   "outputs": [
    {
     "data": {
      "text/plain": [
       "(array([[0.33333333, 0.        , 1.        , ..., 0.        , 0.        ,\n",
       "         1.        ],\n",
       "        [0.        , 0.        , 1.        , ..., 0.        , 0.        ,\n",
       "         0.        ],\n",
       "        [0.66666667, 0.        , 0.        , ..., 0.        , 0.        ,\n",
       "         0.        ],\n",
       "        ...,\n",
       "        [0.        , 0.        , 1.        , ..., 0.        , 0.        ,\n",
       "         0.        ],\n",
       "        [1.        , 0.        , 1.        , ..., 0.        , 0.        ,\n",
       "         0.        ],\n",
       "        [0.66666667, 0.        , 1.        , ..., 0.        , 0.        ,\n",
       "         0.        ]], shape=(7620, 58)),\n",
       " array([[1.        , 0.        , 1.        , ..., 0.        , 0.        ,\n",
       "         0.        ],\n",
       "        [0.33333333, 0.        , 0.        , ..., 0.        , 0.        ,\n",
       "         0.        ],\n",
       "        [1.        , 1.        , 0.        , ..., 0.        , 0.        ,\n",
       "         0.        ],\n",
       "        ...,\n",
       "        [0.        , 0.        , 1.        , ..., 0.        , 0.        ,\n",
       "         0.        ],\n",
       "        [0.66666667, 0.        , 1.        , ..., 0.        , 0.        ,\n",
       "         0.        ],\n",
       "        [0.33333333, 0.        , 1.        , ..., 1.        , 0.        ,\n",
       "         0.        ]], shape=(3266, 58)))"
      ]
     },
     "execution_count": 43,
     "metadata": {},
     "output_type": "execute_result"
    }
   ],
   "source": [
    "# Scaling\n",
    "# الآن سوف نقوم بخطوة أخيرة قبل التدريب: هي توحيد المقاييس .\n",
    "# لماذا نقوم بتوحيد المقاييس؟ سوف تلاحظ أن لدينا عدة اعمدة لتوقع عدد الايجارات:  إن لم نقم بتوحيد المقاييس سوف يكون أثر بعض الاعمدة أكبر بكثير من الاخرين لأن قيمهم اكبر بكثير من القيم الاخرى . ولحل هذه المشكلة نقوم بتوحيد المقاييس بتطبيق اجراء سوف ينتج قيم جديدة للأعمدة تتراوح ما بين الصفر والواحد, حيث أن صفر تمثل أقل قيمة وواحد تمثل أعلى قيمة. وبذلك، نحن نجعل أثر كل عمود في توقع عدد الايجارات متساوي مع الأعمدة الأخرى لأن كل قيم الأعمدة تتراوح ما بين 0-1.\n",
    "\n",
    "from sklearn.preprocessing import MinMaxScaler # To scale columns - لتوحيد المقاييس\n",
    "\n",
    "s = MinMaxScaler()\n",
    "X_train_s = s.fit_transform(X_train)\n",
    "X_test_s = s.transform(X_test)\n",
    "\n",
    "X_train_s, X_test_s"
   ]
  },
  {
   "cell_type": "code",
   "execution_count": 44,
   "metadata": {},
   "outputs": [],
   "source": [
    "#  2. Train the Model: Train a Linear Regression model on the training data.\n",
    "# في هذا المشروع، سوف نستخدم نوعين من الانحدار الخطي، ألا وهم Lasso and Ridge \n",
    "# وسوف نختار الذي سوف يحرز نتيجة أعلى في اختبار تقييم الأداء\n",
    "\n",
    "from sklearn.linear_model import  Lasso, Ridge #  لتدريب نموذج الانحدار الخطي\n",
    "# Lasso regression model - نموذج لاسو\n",
    "Lasso = Lasso() \n",
    "Lasso.fit(X_train_s, y_train) # Train the model using training data -\n",
    "Lasso_pred = Lasso.predict(X_test_s) #  الآن نقوم بتوقع أسعار السيارات في صفوف الاختبار\n"
   ]
  },
  {
   "cell_type": "code",
   "execution_count": 45,
   "metadata": {},
   "outputs": [],
   "source": [
    "# Ridge regression model\n",
    "Ridge = Ridge() # Initiate ridge object\n",
    "Ridge.fit(X_train_s, y_train)\n",
    "Ridge_pred = Ridge.predict(X_test_s)\n"
   ]
  },
  {
   "cell_type": "code",
   "execution_count": 46,
   "metadata": {},
   "outputs": [
    {
     "name": "stdout",
     "output_type": "stream",
     "text": [
      "Lasso\n",
      "R2 value is 0.998137284726811\n",
      "RMSE value is 7.815490972052597\n",
      "MAE value is 5.929042859143269\n",
      "\n",
      "Ridge\n",
      "R2 value is 0.9999567432540661\n",
      "RMSE value is 1.1909950345885727\n",
      "MAE value is 0.880192700844708\n"
     ]
    }
   ],
   "source": [
    "# Evaluate the Model: Use metrics like MAE, RMSE, and R² Score to assess performance.\n",
    "# R²: قيمة تتراوح بين 0-1 كلما اقتربنا من 1 كل ما كان توقعنا قريب من القيمة الحقيقية.\n",
    "# RMSE: قيمة تمثل كمية الخطأ في توقعنا، كلما أخطأنا كلما ارتفعت\n",
    "# MAE: هي متوسط القيم المطلقة للفروق بين القيم الحقيقية والتوقعات,اي هي متوسط حجم الخطأ الذي يحدث في التوقعات, كلما كانت قيمتها أقل، كان التوقع أفضل.\n",
    "\n",
    "\n",
    "from sklearn.metrics import r2_score, mean_squared_error, mean_absolute_error # for evaluation\n",
    "import numpy as np\n",
    "\n",
    "#Evalaute Lasso model performance \n",
    "print('Lasso')\n",
    "print('R2 value is', r2_score(y_test, Lasso_pred))\n",
    "print('RMSE value is', np.sqrt(mean_squared_error(y_test, Lasso_pred)))\n",
    "print('MAE value is', mean_absolute_error(y_test, Lasso_pred))\n",
    "\n",
    "#Evalaute Ridge model performance \n",
    "print('\\nRidge')\n",
    "print('R2 value is', r2_score(y_test, Ridge_pred))\n",
    "print('RMSE value is', np.sqrt(mean_squared_error(y_test, Ridge_pred)))\n",
    "print('MAE value is', mean_absolute_error(y_test, Ridge_pred))\n",
    "\n"
   ]
  },
  {
   "cell_type": "code",
   "execution_count": 47,
   "metadata": {},
   "outputs": [
    {
     "data": {
      "image/png": "[encoded data removed]",
      "text/plain": [
       "<Figure size 800x500 with 1 Axes>"
      ]
     },
     "metadata": {},
     "output_type": "display_data"
    }
   ],
   "source": [
    "# نستنتج أن أداء نموذج الردج كان أعلى من نموذج اللاسو، ولذلك سوف نعتمده في مشروعنا هذا. في الأسفل مقارنة بين الايجارات المتوقعة عن طريق نموذج الردج والحقيقية، كل ما كان الخط مستقيم كل ما كان النموذج أكثر دقة.\n",
    "# - Plot and interpret residuals to evaluate how well the model fits the data.\n",
    "figure = plt.figure(figsize=(8,5))\n",
    "ax = plt.axes()\n",
    "ax.plot(y_test, Ridge_pred, marker='o', ls='', ms=3.0,color='sienna')\n",
    "\n",
    "lim = (0, y_test.max())\n",
    "\n",
    "ax.set(xlabel='Actual count',\n",
    "        ylabel='Predicted count',\n",
    "        xlim=lim,\n",
    "        ylim=lim)\n",
    "plt.title('Ridge Regression Model Results', fontsize=14)\n",
    "ax.xaxis.label.set_size(14);\n",
    "ax.yaxis.label.set_size(14);\n"
   ]
  },
  {
   "cell_type": "code",
   "execution_count": 48,
   "metadata": {},
   "outputs": [
    {
     "data": {
      "text/plain": [
       "<Axes: xlabel='count', ylabel='Count'>"
      ]
     },
     "execution_count": 48,
     "metadata": {},
     "output_type": "execute_result"
    },
    {
     "data": {
      "image/png": "[encoded data removed]",
      "text/plain": [
       "<Figure size 640x480 with 1 Axes>"
      ]
     },
     "metadata": {},
     "output_type": "display_data"
    }
   ],
   "source": [
    "# Bonus Task \n",
    "sns.histplot(Ridge_pred, color='red', alpha=0.5, bins=50)\n",
    "sns.histplot(y_test, color='blue', alpha=0.5, bins=50)"
   ]
  },
  {
   "cell_type": "code",
   "execution_count": 49,
   "metadata": {},
   "outputs": [
    {
     "data": {
      "text/plain": [
       "(array([0.66666667, 0.        , 1.        , 0.        , 0.75510204,\n",
       "        0.745721  , 0.4       , 0.3508875 , 0.24250681, 0.42437923,\n",
       "        0.        , 0.        , 0.        , 0.        , 0.        ,\n",
       "        0.        , 0.        , 1.        , 0.        , 0.        ,\n",
       "        0.        , 0.        , 0.        , 0.        , 0.        ,\n",
       "        0.        , 0.        , 0.        , 0.        , 0.        ,\n",
       "        0.        , 0.        , 0.        , 0.        , 0.        ,\n",
       "        0.        , 0.        , 0.        , 0.        , 0.        ,\n",
       "        0.        , 0.        , 0.        , 0.        , 0.        ,\n",
       "        0.        , 0.        , 0.        , 0.        , 0.        ,\n",
       "        0.        , 0.        , 1.        , 0.        , 0.        ,\n",
       "        0.        , 0.        , 0.        ]),\n",
       " np.float64(464.9344882876744),\n",
       " np.int64(282))"
      ]
     },
     "execution_count": 49,
     "metadata": {},
     "output_type": "execute_result"
    }
   ],
   "source": [
    "X_test_s[3] , Ridge_pred[3] , y_test[2230]"
   ]
  },
  {
   "cell_type": "markdown",
   "metadata": {},
   "source": [
    "-----------------------------------------------------------------------------"
   ]
  },
  {
   "cell_type": "markdown",
   "metadata": {},
   "source": [
    " <h4 style='font-size:20px;color:red'>We will drop the duplication in the rows, Then see and apply the model and compare the results later.</h4>"
   ]
  },
  {
   "cell_type": "code",
   "execution_count": 50,
   "metadata": {},
   "outputs": [
    {
     "data": {
      "text/html": [
       "<div>\n",
       "<style scoped>\n",
       "    .dataframe tbody tr th:only-of-type {\n",
       "        vertical-align: middle;\n",
       "    }\n",
       "\n",
       "    .dataframe tbody tr th {\n",
       "        vertical-align: top;\n",
       "    }\n",
       "\n",
       "    .dataframe thead th {\n",
       "        text-align: right;\n",
       "    }\n",
       "</style>\n",
       "<table border=\"1\" class=\"dataframe\">\n",
       "  <thead>\n",
       "    <tr style=\"text-align: right;\">\n",
       "      <th></th>\n",
       "      <th>season</th>\n",
       "      <th>holiday</th>\n",
       "      <th>workingday</th>\n",
       "      <th>weather</th>\n",
       "      <th>temp</th>\n",
       "      <th>atemp</th>\n",
       "      <th>humidity</th>\n",
       "      <th>windspeed</th>\n",
       "      <th>casual</th>\n",
       "      <th>registered</th>\n",
       "      <th>...</th>\n",
       "      <th>time_14:00:00</th>\n",
       "      <th>time_15:00:00</th>\n",
       "      <th>time_16:00:00</th>\n",
       "      <th>time_17:00:00</th>\n",
       "      <th>time_18:00:00</th>\n",
       "      <th>time_19:00:00</th>\n",
       "      <th>time_20:00:00</th>\n",
       "      <th>time_21:00:00</th>\n",
       "      <th>time_22:00:00</th>\n",
       "      <th>time_23:00:00</th>\n",
       "    </tr>\n",
       "  </thead>\n",
       "  <tbody>\n",
       "    <tr>\n",
       "      <th>4682</th>\n",
       "      <td>4</td>\n",
       "      <td>0</td>\n",
       "      <td>1</td>\n",
       "      <td>1</td>\n",
       "      <td>12.30</td>\n",
       "      <td>16.665</td>\n",
       "      <td>87</td>\n",
       "      <td>0.0000</td>\n",
       "      <td>0</td>\n",
       "      <td>4</td>\n",
       "      <td>...</td>\n",
       "      <td>False</td>\n",
       "      <td>False</td>\n",
       "      <td>False</td>\n",
       "      <td>False</td>\n",
       "      <td>False</td>\n",
       "      <td>False</td>\n",
       "      <td>False</td>\n",
       "      <td>False</td>\n",
       "      <td>False</td>\n",
       "      <td>False</td>\n",
       "    </tr>\n",
       "    <tr>\n",
       "      <th>5188</th>\n",
       "      <td>4</td>\n",
       "      <td>0</td>\n",
       "      <td>0</td>\n",
       "      <td>1</td>\n",
       "      <td>9.84</td>\n",
       "      <td>12.880</td>\n",
       "      <td>65</td>\n",
       "      <td>7.0015</td>\n",
       "      <td>1</td>\n",
       "      <td>10</td>\n",
       "      <td>...</td>\n",
       "      <td>False</td>\n",
       "      <td>False</td>\n",
       "      <td>False</td>\n",
       "      <td>False</td>\n",
       "      <td>False</td>\n",
       "      <td>False</td>\n",
       "      <td>False</td>\n",
       "      <td>False</td>\n",
       "      <td>False</td>\n",
       "      <td>False</td>\n",
       "    </tr>\n",
       "    <tr>\n",
       "      <th>6212</th>\n",
       "      <td>1</td>\n",
       "      <td>0</td>\n",
       "      <td>1</td>\n",
       "      <td>1</td>\n",
       "      <td>12.30</td>\n",
       "      <td>16.665</td>\n",
       "      <td>61</td>\n",
       "      <td>0.0000</td>\n",
       "      <td>0</td>\n",
       "      <td>4</td>\n",
       "      <td>...</td>\n",
       "      <td>False</td>\n",
       "      <td>False</td>\n",
       "      <td>False</td>\n",
       "      <td>False</td>\n",
       "      <td>False</td>\n",
       "      <td>False</td>\n",
       "      <td>False</td>\n",
       "      <td>False</td>\n",
       "      <td>False</td>\n",
       "      <td>False</td>\n",
       "    </tr>\n",
       "    <tr>\n",
       "      <th>9450</th>\n",
       "      <td>3</td>\n",
       "      <td>0</td>\n",
       "      <td>1</td>\n",
       "      <td>1</td>\n",
       "      <td>20.50</td>\n",
       "      <td>24.240</td>\n",
       "      <td>77</td>\n",
       "      <td>6.0032</td>\n",
       "      <td>0</td>\n",
       "      <td>7</td>\n",
       "      <td>...</td>\n",
       "      <td>False</td>\n",
       "      <td>False</td>\n",
       "      <td>False</td>\n",
       "      <td>False</td>\n",
       "      <td>False</td>\n",
       "      <td>False</td>\n",
       "      <td>False</td>\n",
       "      <td>False</td>\n",
       "      <td>False</td>\n",
       "      <td>False</td>\n",
       "    </tr>\n",
       "  </tbody>\n",
       "</table>\n",
       "<p>4 rows × 59 columns</p>\n",
       "</div>"
      ],
      "text/plain": [
       "      season  holiday  workingday  weather   temp   atemp  humidity  \\\n",
       "4682       4        0           1        1  12.30  16.665        87   \n",
       "5188       4        0           0        1   9.84  12.880        65   \n",
       "6212       1        0           1        1  12.30  16.665        61   \n",
       "9450       3        0           1        1  20.50  24.240        77   \n",
       "\n",
       "      windspeed  casual  registered  ...  time_14:00:00  time_15:00:00  \\\n",
       "4682     0.0000       0           4  ...          False          False   \n",
       "5188     7.0015       1          10  ...          False          False   \n",
       "6212     0.0000       0           4  ...          False          False   \n",
       "9450     6.0032       0           7  ...          False          False   \n",
       "\n",
       "      time_16:00:00  time_17:00:00  time_18:00:00  time_19:00:00  \\\n",
       "4682          False          False          False          False   \n",
       "5188          False          False          False          False   \n",
       "6212          False          False          False          False   \n",
       "9450          False          False          False          False   \n",
       "\n",
       "      time_20:00:00  time_21:00:00  time_22:00:00  time_23:00:00  \n",
       "4682          False          False          False          False  \n",
       "5188          False          False          False          False  \n",
       "6212          False          False          False          False  \n",
       "9450          False          False          False          False  \n",
       "\n",
       "[4 rows x 59 columns]"
      ]
     },
     "execution_count": 50,
     "metadata": {},
     "output_type": "execute_result"
    }
   ],
   "source": [
    "ecnoded_df.loc[ecnoded_df.duplicated()]"
   ]
  },
  {
   "cell_type": "code",
   "execution_count": 51,
   "metadata": {},
   "outputs": [],
   "source": [
    "ecnoded_df = ecnoded_df.drop_duplicates()"
   ]
  },
  {
   "cell_type": "code",
   "execution_count": 52,
   "metadata": {},
   "outputs": [
    {
     "data": {
      "text/html": [
       "<div>\n",
       "<style scoped>\n",
       "    .dataframe tbody tr th:only-of-type {\n",
       "        vertical-align: middle;\n",
       "    }\n",
       "\n",
       "    .dataframe tbody tr th {\n",
       "        vertical-align: top;\n",
       "    }\n",
       "\n",
       "    .dataframe thead th {\n",
       "        text-align: right;\n",
       "    }\n",
       "</style>\n",
       "<table border=\"1\" class=\"dataframe\">\n",
       "  <thead>\n",
       "    <tr style=\"text-align: right;\">\n",
       "      <th></th>\n",
       "      <th>season</th>\n",
       "      <th>holiday</th>\n",
       "      <th>workingday</th>\n",
       "      <th>weather</th>\n",
       "      <th>temp</th>\n",
       "      <th>atemp</th>\n",
       "      <th>humidity</th>\n",
       "      <th>windspeed</th>\n",
       "      <th>casual</th>\n",
       "      <th>registered</th>\n",
       "      <th>...</th>\n",
       "      <th>time_14:00:00</th>\n",
       "      <th>time_15:00:00</th>\n",
       "      <th>time_16:00:00</th>\n",
       "      <th>time_17:00:00</th>\n",
       "      <th>time_18:00:00</th>\n",
       "      <th>time_19:00:00</th>\n",
       "      <th>time_20:00:00</th>\n",
       "      <th>time_21:00:00</th>\n",
       "      <th>time_22:00:00</th>\n",
       "      <th>time_23:00:00</th>\n",
       "    </tr>\n",
       "  </thead>\n",
       "  <tbody>\n",
       "  </tbody>\n",
       "</table>\n",
       "<p>0 rows × 59 columns</p>\n",
       "</div>"
      ],
      "text/plain": [
       "Empty DataFrame\n",
       "Columns: [season, holiday, workingday, weather, temp, atemp, humidity, windspeed, casual, registered, count, date_2011_01, date_2011_02, date_2011_03, date_2011_04, date_2011_05, date_2011_06, date_2011_07, date_2011_08, date_2011_09, date_2011_10, date_2011_11, date_2011_12, date_2012_01, date_2012_02, date_2012_03, date_2012_04, date_2012_05, date_2012_06, date_2012_07, date_2012_08, date_2012_09, date_2012_10, date_2012_11, date_2012_12, time_00:00:00, time_01:00:00, time_02:00:00, time_03:00:00, time_04:00:00, time_05:00:00, time_06:00:00, time_07:00:00, time_08:00:00, time_09:00:00, time_10:00:00, time_11:00:00, time_12:00:00, time_13:00:00, time_14:00:00, time_15:00:00, time_16:00:00, time_17:00:00, time_18:00:00, time_19:00:00, time_20:00:00, time_21:00:00, time_22:00:00, time_23:00:00]\n",
       "Index: []\n",
       "\n",
       "[0 rows x 59 columns]"
      ]
     },
     "execution_count": 52,
     "metadata": {},
     "output_type": "execute_result"
    }
   ],
   "source": [
    "ecnoded_df.loc[ecnoded_df.duplicated()]"
   ]
  },
  {
   "cell_type": "code",
   "execution_count": 53,
   "metadata": {},
   "outputs": [
    {
     "data": {
      "text/plain": [
       "(10882, 59)"
      ]
     },
     "execution_count": 53,
     "metadata": {},
     "output_type": "execute_result"
    }
   ],
   "source": [
    "ecnoded_df.shape"
   ]
  },
  {
   "cell_type": "code",
   "execution_count": 54,
   "metadata": {},
   "outputs": [],
   "source": [
    "# 1. Train-Test Split:\n",
    "# الآن، سوف نقوم بفصل البيانات على مرتين: الفصل الأول سنقوم بفصل العمود المستهدف (عدد الايجارات) عن باقي الأعمدة (المتغيرات المستقلة) عن طريق التالي\n",
    "# والسبب وراء هذا الفصل هو أننا نريد استخدام الأعمدة المستقلة لتوقع قيمة العمود المستهدف (عمود عدد الايجارات).\n",
    "# X(Columns) * (Parameters) >> leads to Y(Predictions)\n",
    "\n",
    "# Create X & y - \n",
    "# X represetns the independet variables - \n",
    "X = ecnoded_df.drop('count', axis = 1)\n",
    "\n",
    "# Targer variable -\n",
    "y = ecnoded_df['count']\n"
   ]
  },
  {
   "cell_type": "code",
   "execution_count": 55,
   "metadata": {},
   "outputs": [],
   "source": [
    "# الآن الفصل الثاني هو فصل (التدريب/الاختبار) والذي نقوم به في هذا الفصل هو أخذ نسبة من البيانات وفصلها عن طريق عدم وضعها في مرحلة تدريب النموذج. والسبب في قيام ذلك هو أننا نريد اختبار دقة عمل النموذج في الحياة الواقعية وإذا اختبرنا النموذج على نفس البيانات التي دربناه عليها سوف يحرز نتائج عالية بسهولة. ومن أجل ذلك نحن نبقي جزء من البيانات من غير تدريب لإجراء الاختبارات عليه بحيادية.\n",
    "from sklearn.model_selection import train_test_split # for splitting the data - الكود المستخدم لفصل البيانات\n",
    "\n",
    "# We will make the test size = 30% - \n",
    "X_train, X_test, y_train, y_test = train_test_split(X, y, test_size=0.30, random_state=1204)\n"
   ]
  },
  {
   "cell_type": "code",
   "execution_count": 56,
   "metadata": {},
   "outputs": [
    {
     "data": {
      "text/plain": [
       "(7617, 3265, 10882)"
      ]
     },
     "execution_count": 56,
     "metadata": {},
     "output_type": "execute_result"
    }
   ],
   "source": [
    "len(X_train), len(X_test), len(X_train+X_test)"
   ]
  },
  {
   "cell_type": "code",
   "execution_count": 57,
   "metadata": {},
   "outputs": [],
   "source": [
    "# نلاحظ أن عملية الفصل انتجت لنا 4 متغيرات ووصفهم كالتالي\n",
    "# ●\tX_train: هي الصفوف التي سوف نستخدمها في تدريب النموذج.\n",
    "# ●\ty_train: هي عدد ايجارات الصفوف التي سوف ندرب النموذج عليها.\n",
    "# ●\tX_test: هي الصفوف التي نريد توقعها من أجل اختبار دقة النموذج\n",
    "# ●\ty_test: هي ايجارات الصفوف الحقيقة والتي سوف نقارن توقعات النموذج بها\n"
   ]
  },
  {
   "cell_type": "code",
   "execution_count": 58,
   "metadata": {},
   "outputs": [
    {
     "data": {
      "text/html": [
       "<div>\n",
       "<style scoped>\n",
       "    .dataframe tbody tr th:only-of-type {\n",
       "        vertical-align: middle;\n",
       "    }\n",
       "\n",
       "    .dataframe tbody tr th {\n",
       "        vertical-align: top;\n",
       "    }\n",
       "\n",
       "    .dataframe thead th {\n",
       "        text-align: right;\n",
       "    }\n",
       "</style>\n",
       "<table border=\"1\" class=\"dataframe\">\n",
       "  <thead>\n",
       "    <tr style=\"text-align: right;\">\n",
       "      <th></th>\n",
       "      <th>season</th>\n",
       "      <th>holiday</th>\n",
       "      <th>workingday</th>\n",
       "      <th>weather</th>\n",
       "      <th>temp</th>\n",
       "      <th>atemp</th>\n",
       "      <th>humidity</th>\n",
       "      <th>windspeed</th>\n",
       "      <th>casual</th>\n",
       "      <th>registered</th>\n",
       "      <th>...</th>\n",
       "      <th>time_14:00:00</th>\n",
       "      <th>time_15:00:00</th>\n",
       "      <th>time_16:00:00</th>\n",
       "      <th>time_17:00:00</th>\n",
       "      <th>time_18:00:00</th>\n",
       "      <th>time_19:00:00</th>\n",
       "      <th>time_20:00:00</th>\n",
       "      <th>time_21:00:00</th>\n",
       "      <th>time_22:00:00</th>\n",
       "      <th>time_23:00:00</th>\n",
       "    </tr>\n",
       "  </thead>\n",
       "  <tbody>\n",
       "    <tr>\n",
       "      <th>6875</th>\n",
       "      <td>2</td>\n",
       "      <td>0</td>\n",
       "      <td>1</td>\n",
       "      <td>1</td>\n",
       "      <td>27.06</td>\n",
       "      <td>31.060</td>\n",
       "      <td>39</td>\n",
       "      <td>15.0013</td>\n",
       "      <td>75</td>\n",
       "      <td>419</td>\n",
       "      <td>...</td>\n",
       "      <td>False</td>\n",
       "      <td>False</td>\n",
       "      <td>False</td>\n",
       "      <td>False</td>\n",
       "      <td>False</td>\n",
       "      <td>True</td>\n",
       "      <td>False</td>\n",
       "      <td>False</td>\n",
       "      <td>False</td>\n",
       "      <td>False</td>\n",
       "    </tr>\n",
       "    <tr>\n",
       "      <th>5811</th>\n",
       "      <td>1</td>\n",
       "      <td>0</td>\n",
       "      <td>1</td>\n",
       "      <td>3</td>\n",
       "      <td>12.30</td>\n",
       "      <td>14.395</td>\n",
       "      <td>81</td>\n",
       "      <td>19.0012</td>\n",
       "      <td>3</td>\n",
       "      <td>90</td>\n",
       "      <td>...</td>\n",
       "      <td>False</td>\n",
       "      <td>False</td>\n",
       "      <td>False</td>\n",
       "      <td>False</td>\n",
       "      <td>False</td>\n",
       "      <td>False</td>\n",
       "      <td>False</td>\n",
       "      <td>False</td>\n",
       "      <td>False</td>\n",
       "      <td>False</td>\n",
       "    </tr>\n",
       "    <tr>\n",
       "      <th>6909</th>\n",
       "      <td>2</td>\n",
       "      <td>0</td>\n",
       "      <td>1</td>\n",
       "      <td>1</td>\n",
       "      <td>13.12</td>\n",
       "      <td>15.150</td>\n",
       "      <td>53</td>\n",
       "      <td>22.0028</td>\n",
       "      <td>0</td>\n",
       "      <td>23</td>\n",
       "      <td>...</td>\n",
       "      <td>False</td>\n",
       "      <td>False</td>\n",
       "      <td>False</td>\n",
       "      <td>False</td>\n",
       "      <td>False</td>\n",
       "      <td>False</td>\n",
       "      <td>False</td>\n",
       "      <td>False</td>\n",
       "      <td>False</td>\n",
       "      <td>False</td>\n",
       "    </tr>\n",
       "  </tbody>\n",
       "</table>\n",
       "<p>3 rows × 58 columns</p>\n",
       "</div>"
      ],
      "text/plain": [
       "      season  holiday  workingday  weather   temp   atemp  humidity  \\\n",
       "6875       2        0           1        1  27.06  31.060        39   \n",
       "5811       1        0           1        3  12.30  14.395        81   \n",
       "6909       2        0           1        1  13.12  15.150        53   \n",
       "\n",
       "      windspeed  casual  registered  ...  time_14:00:00  time_15:00:00  \\\n",
       "6875    15.0013      75         419  ...          False          False   \n",
       "5811    19.0012       3          90  ...          False          False   \n",
       "6909    22.0028       0          23  ...          False          False   \n",
       "\n",
       "      time_16:00:00  time_17:00:00  time_18:00:00  time_19:00:00  \\\n",
       "6875          False          False          False           True   \n",
       "5811          False          False          False          False   \n",
       "6909          False          False          False          False   \n",
       "\n",
       "      time_20:00:00  time_21:00:00  time_22:00:00  time_23:00:00  \n",
       "6875          False          False          False          False  \n",
       "5811          False          False          False          False  \n",
       "6909          False          False          False          False  \n",
       "\n",
       "[3 rows x 58 columns]"
      ]
     },
     "execution_count": 58,
     "metadata": {},
     "output_type": "execute_result"
    }
   ],
   "source": [
    "X_train.head(3)"
   ]
  },
  {
   "cell_type": "code",
   "execution_count": 59,
   "metadata": {},
   "outputs": [
    {
     "data": {
      "text/plain": [
       "(array([[0.33333333, 0.        , 1.        , ..., 0.        , 0.        ,\n",
       "         0.        ],\n",
       "        [0.        , 0.        , 1.        , ..., 0.        , 0.        ,\n",
       "         0.        ],\n",
       "        [0.33333333, 0.        , 1.        , ..., 0.        , 0.        ,\n",
       "         0.        ],\n",
       "        ...,\n",
       "        [0.        , 0.        , 1.        , ..., 0.        , 0.        ,\n",
       "         0.        ],\n",
       "        [1.        , 0.        , 1.        , ..., 0.        , 0.        ,\n",
       "         0.        ],\n",
       "        [0.66666667, 0.        , 1.        , ..., 0.        , 0.        ,\n",
       "         0.        ]], shape=(7617, 58)),\n",
       " array([[1.        , 0.        , 0.        , ..., 0.        , 0.        ,\n",
       "         0.        ],\n",
       "        [0.        , 0.        , 1.        , ..., 0.        , 0.        ,\n",
       "         0.        ],\n",
       "        [1.        , 0.        , 1.        , ..., 0.        , 0.        ,\n",
       "         0.        ],\n",
       "        ...,\n",
       "        [0.        , 0.        , 1.        , ..., 0.        , 0.        ,\n",
       "         0.        ],\n",
       "        [0.66666667, 0.        , 0.        , ..., 0.        , 0.        ,\n",
       "         0.        ],\n",
       "        [1.        , 0.        , 1.        , ..., 0.        , 1.        ,\n",
       "         0.        ]], shape=(3265, 58)))"
      ]
     },
     "execution_count": 59,
     "metadata": {},
     "output_type": "execute_result"
    }
   ],
   "source": [
    "# Scaling\n",
    "# الآن سوف نقوم بخطوة أخيرة قبل التدريب: هي توحيد المقاييس .\n",
    "# لماذا نقوم بتوحيد المقاييس؟ سوف تلاحظ أن لدينا عدة اعمدة لتوقع عدد الايجارات:  إن لم نقم بتوحيد المقاييس سوف يكون أثر بعض الاعمدة أكبر بكثير من الاخرين لأن قيمهم اكبر بكثير من القيم الاخرى . ولحل هذه المشكلة نقوم بتوحيد المقاييس بتطبيق اجراء سوف ينتج قيم جديدة للأعمدة تتراوح ما بين الصفر والواحد, حيث أن صفر تمثل أقل قيمة وواحد تمثل أعلى قيمة. وبذلك، نحن نجعل أثر كل عمود في توقع عدد الايجارات متساوي مع الأعمدة الأخرى لأن كل قيم الأعمدة تتراوح ما بين 0-1.\n",
    "\n",
    "from sklearn.preprocessing import MinMaxScaler # To scale columns - لتوحيد المقاييس\n",
    "\n",
    "s = MinMaxScaler()\n",
    "X_train_s = s.fit_transform(X_train)\n",
    "X_test_s = s.transform(X_test)\n",
    "\n",
    "X_train_s, X_test_s"
   ]
  },
  {
   "cell_type": "code",
   "execution_count": 60,
   "metadata": {},
   "outputs": [],
   "source": [
    "#  2. Train the Model: Train a Linear Regression model on the training data.\n",
    "# سوف نختار Ridge\n",
    "# لانه احرز نتائج اعلى في اختبار تقييم الاداء في النموذج السابق\n",
    "\n",
    "from sklearn.linear_model import Ridge #  لتدريب نموذج الانحدار الخطي\n",
    "# Ridge regression model\n",
    "Ridge = Ridge() # Initiate ridge object\n",
    "Ridge.fit(X_train_s, y_train)\n",
    "Ridge_pred = Ridge.predict(X_test_s)\n"
   ]
  },
  {
   "cell_type": "code",
   "execution_count": 61,
   "metadata": {},
   "outputs": [
    {
     "name": "stdout",
     "output_type": "stream",
     "text": [
      "\n",
      "Ridge\n",
      "R2 value is 0.9999574499885516\n",
      "RMSE value is 1.1825881768504087\n",
      "MAE value is 0.8731317569664979\n"
     ]
    }
   ],
   "source": [
    "# Evaluate the Model: Use metrics like MAE, RMSE, and R² Score to assess performance.\n",
    "# R²: قيمة تتراوح بين 0-1 كلما اقتربنا من 1 كل ما كان توقعنا قريب من القيمة الحقيقية.\n",
    "# RMSE: قيمة تمثل كمية الخطأ في توقعنا، كلما أخطأنا كلما ارتفعت\n",
    "# MAE: هي متوسط القيم المطلقة للفروق بين القيم الحقيقية والتوقعات,اي هي متوسط حجم الخطأ الذي يحدث في التوقعات, كلما كانت قيمتها أقل، كان التوقع أفضل.\n",
    "\n",
    "\n",
    "from sklearn.metrics import r2_score, mean_squared_error, mean_absolute_error # for evaluation\n",
    "import numpy as np\n",
    "\n",
    "# Evalaute Ridge model performance \n",
    "\n",
    "print('\\nRidge')\n",
    "print('R2 value is', r2_score(y_test, Ridge_pred))\n",
    "print('RMSE value is', np.sqrt(mean_squared_error(y_test, Ridge_pred)))\n",
    "print('MAE value is', mean_absolute_error(y_test, Ridge_pred))\n",
    "\n"
   ]
  },
  {
   "cell_type": "code",
   "execution_count": 62,
   "metadata": {},
   "outputs": [
    {
     "data": {
      "image/png": "[encoded data removed]",
      "text/plain": [
       "<Figure size 800x500 with 1 Axes>"
      ]
     },
     "metadata": {},
     "output_type": "display_data"
    }
   ],
   "source": [
    "#  في الأسفل مقارنة بين الايجارات المتوقعة عن طريق نموذج الردج والحقيقية، كل ما كان الخط مستقيم كل ما كان النموذج أكثر دقة.\n",
    "# - Plot and interpret residuals to evaluate how well the model fits the data.\n",
    "figure = plt.figure(figsize=(8,5))\n",
    "ax = plt.axes()\n",
    "ax.plot(y_test, Ridge_pred, marker='o', ls='', ms=3.0,color='sienna')\n",
    "\n",
    "lim = (0, y_test.max())\n",
    "\n",
    "ax.set(xlabel='Actual count',\n",
    "        ylabel='Predicted count',\n",
    "        xlim=lim,\n",
    "        ylim=lim)\n",
    "plt.title('Ridge Regression Model Results', fontsize=14)\n",
    "ax.xaxis.label.set_size(14);\n",
    "ax.yaxis.label.set_size(14);\n"
   ]
  },
  {
   "cell_type": "code",
   "execution_count": 63,
   "metadata": {},
   "outputs": [
    {
     "data": {
      "text/plain": [
       "<Axes: xlabel='count', ylabel='Count'>"
      ]
     },
     "execution_count": 63,
     "metadata": {},
     "output_type": "execute_result"
    },
    {
     "data": {
      "image/png": "[encoded data removed]",
      "text/plain": [
       "<Figure size 640x480 with 1 Axes>"
      ]
     },
     "metadata": {},
     "output_type": "display_data"
    }
   ],
   "source": [
    "# Bonus Task \n",
    "sns.histplot(Ridge_pred, color='red', alpha=0.5, bins=50)\n",
    "sns.histplot(y_test, color='blue', alpha=0.5, bins=50)"
   ]
  },
  {
   "cell_type": "code",
   "execution_count": 64,
   "metadata": {},
   "outputs": [
    {
     "data": {
      "text/plain": [
       "(array([0.33333333, 0.        , 1.        , 0.        , 0.55319149,\n",
       "        0.55934668, 0.77      , 0.33337252, 0.12921348, 0.26636569,\n",
       "        0.        , 0.        , 0.        , 0.        , 1.        ,\n",
       "        0.        , 0.        , 0.        , 0.        , 0.        ,\n",
       "        0.        , 0.        , 0.        , 0.        , 0.        ,\n",
       "        0.        , 0.        , 0.        , 0.        , 0.        ,\n",
       "        0.        , 0.        , 0.        , 0.        , 0.        ,\n",
       "        0.        , 0.        , 0.        , 0.        , 0.        ,\n",
       "        0.        , 0.        , 0.        , 0.        , 0.        ,\n",
       "        0.        , 0.        , 0.        , 0.        , 0.        ,\n",
       "        0.        , 0.        , 0.        , 0.        , 1.        ,\n",
       "        0.        , 0.        , 0.        ]),\n",
       " np.float64(281.30832821628314),\n",
       " np.int64(465))"
      ]
     },
     "execution_count": 64,
     "metadata": {},
     "output_type": "execute_result"
    }
   ],
   "source": [
    "X_test_s[3] , Ridge_pred[3] , y_test[3428]"
   ]
  },
  {
   "cell_type": "markdown",
   "metadata": {},
   "source": [
    "-----------------------------------------------------------------------------"
   ]
  },
  {
   "cell_type": "markdown",
   "metadata": {},
   "source": [
    " <h4 style='font-size:20px;color:red'>We will drop all the date columns, Then see and apply the model and compare the results later.</h4>\n",
    " سوف نعود للخطوة التي بعد فصل عمود التاريخ والوقت الى عمودين , وقبل عمل الانكودينج\n",
    " \n",
    " نقوم بحذف عمود التاريخ وابقاء عمود الوقت وعمل الانكودينج له فقط"
   ]
  },
  {
   "cell_type": "code",
   "execution_count": 65,
   "metadata": {},
   "outputs": [
    {
     "data": {
      "text/html": [
       "<div>\n",
       "<style scoped>\n",
       "    .dataframe tbody tr th:only-of-type {\n",
       "        vertical-align: middle;\n",
       "    }\n",
       "\n",
       "    .dataframe tbody tr th {\n",
       "        vertical-align: top;\n",
       "    }\n",
       "\n",
       "    .dataframe thead th {\n",
       "        text-align: right;\n",
       "    }\n",
       "</style>\n",
       "<table border=\"1\" class=\"dataframe\">\n",
       "  <thead>\n",
       "    <tr style=\"text-align: right;\">\n",
       "      <th></th>\n",
       "      <th>time</th>\n",
       "      <th>season</th>\n",
       "      <th>holiday</th>\n",
       "      <th>workingday</th>\n",
       "      <th>weather</th>\n",
       "      <th>temp</th>\n",
       "      <th>atemp</th>\n",
       "      <th>humidity</th>\n",
       "      <th>windspeed</th>\n",
       "      <th>casual</th>\n",
       "      <th>registered</th>\n",
       "      <th>count</th>\n",
       "    </tr>\n",
       "  </thead>\n",
       "  <tbody>\n",
       "    <tr>\n",
       "      <th>0</th>\n",
       "      <td>00:00:00</td>\n",
       "      <td>1</td>\n",
       "      <td>0</td>\n",
       "      <td>0</td>\n",
       "      <td>1</td>\n",
       "      <td>9.84</td>\n",
       "      <td>14.395</td>\n",
       "      <td>81</td>\n",
       "      <td>0.0000</td>\n",
       "      <td>3</td>\n",
       "      <td>13</td>\n",
       "      <td>16</td>\n",
       "    </tr>\n",
       "    <tr>\n",
       "      <th>1</th>\n",
       "      <td>01:00:00</td>\n",
       "      <td>1</td>\n",
       "      <td>0</td>\n",
       "      <td>0</td>\n",
       "      <td>1</td>\n",
       "      <td>9.02</td>\n",
       "      <td>13.635</td>\n",
       "      <td>80</td>\n",
       "      <td>0.0000</td>\n",
       "      <td>8</td>\n",
       "      <td>32</td>\n",
       "      <td>40</td>\n",
       "    </tr>\n",
       "    <tr>\n",
       "      <th>2</th>\n",
       "      <td>02:00:00</td>\n",
       "      <td>1</td>\n",
       "      <td>0</td>\n",
       "      <td>0</td>\n",
       "      <td>1</td>\n",
       "      <td>9.02</td>\n",
       "      <td>13.635</td>\n",
       "      <td>80</td>\n",
       "      <td>0.0000</td>\n",
       "      <td>5</td>\n",
       "      <td>27</td>\n",
       "      <td>32</td>\n",
       "    </tr>\n",
       "    <tr>\n",
       "      <th>3</th>\n",
       "      <td>03:00:00</td>\n",
       "      <td>1</td>\n",
       "      <td>0</td>\n",
       "      <td>0</td>\n",
       "      <td>1</td>\n",
       "      <td>9.84</td>\n",
       "      <td>14.395</td>\n",
       "      <td>75</td>\n",
       "      <td>0.0000</td>\n",
       "      <td>3</td>\n",
       "      <td>10</td>\n",
       "      <td>13</td>\n",
       "    </tr>\n",
       "    <tr>\n",
       "      <th>4</th>\n",
       "      <td>04:00:00</td>\n",
       "      <td>1</td>\n",
       "      <td>0</td>\n",
       "      <td>0</td>\n",
       "      <td>1</td>\n",
       "      <td>9.84</td>\n",
       "      <td>14.395</td>\n",
       "      <td>75</td>\n",
       "      <td>0.0000</td>\n",
       "      <td>0</td>\n",
       "      <td>1</td>\n",
       "      <td>1</td>\n",
       "    </tr>\n",
       "    <tr>\n",
       "      <th>...</th>\n",
       "      <td>...</td>\n",
       "      <td>...</td>\n",
       "      <td>...</td>\n",
       "      <td>...</td>\n",
       "      <td>...</td>\n",
       "      <td>...</td>\n",
       "      <td>...</td>\n",
       "      <td>...</td>\n",
       "      <td>...</td>\n",
       "      <td>...</td>\n",
       "      <td>...</td>\n",
       "      <td>...</td>\n",
       "    </tr>\n",
       "    <tr>\n",
       "      <th>10881</th>\n",
       "      <td>19:00:00</td>\n",
       "      <td>4</td>\n",
       "      <td>0</td>\n",
       "      <td>1</td>\n",
       "      <td>1</td>\n",
       "      <td>15.58</td>\n",
       "      <td>19.695</td>\n",
       "      <td>50</td>\n",
       "      <td>26.0027</td>\n",
       "      <td>7</td>\n",
       "      <td>329</td>\n",
       "      <td>336</td>\n",
       "    </tr>\n",
       "    <tr>\n",
       "      <th>10882</th>\n",
       "      <td>20:00:00</td>\n",
       "      <td>4</td>\n",
       "      <td>0</td>\n",
       "      <td>1</td>\n",
       "      <td>1</td>\n",
       "      <td>14.76</td>\n",
       "      <td>17.425</td>\n",
       "      <td>57</td>\n",
       "      <td>15.0013</td>\n",
       "      <td>10</td>\n",
       "      <td>231</td>\n",
       "      <td>241</td>\n",
       "    </tr>\n",
       "    <tr>\n",
       "      <th>10883</th>\n",
       "      <td>21:00:00</td>\n",
       "      <td>4</td>\n",
       "      <td>0</td>\n",
       "      <td>1</td>\n",
       "      <td>1</td>\n",
       "      <td>13.94</td>\n",
       "      <td>15.910</td>\n",
       "      <td>61</td>\n",
       "      <td>15.0013</td>\n",
       "      <td>4</td>\n",
       "      <td>164</td>\n",
       "      <td>168</td>\n",
       "    </tr>\n",
       "    <tr>\n",
       "      <th>10884</th>\n",
       "      <td>22:00:00</td>\n",
       "      <td>4</td>\n",
       "      <td>0</td>\n",
       "      <td>1</td>\n",
       "      <td>1</td>\n",
       "      <td>13.94</td>\n",
       "      <td>17.425</td>\n",
       "      <td>61</td>\n",
       "      <td>6.0032</td>\n",
       "      <td>12</td>\n",
       "      <td>117</td>\n",
       "      <td>129</td>\n",
       "    </tr>\n",
       "    <tr>\n",
       "      <th>10885</th>\n",
       "      <td>23:00:00</td>\n",
       "      <td>4</td>\n",
       "      <td>0</td>\n",
       "      <td>1</td>\n",
       "      <td>1</td>\n",
       "      <td>13.12</td>\n",
       "      <td>16.665</td>\n",
       "      <td>66</td>\n",
       "      <td>8.9981</td>\n",
       "      <td>4</td>\n",
       "      <td>84</td>\n",
       "      <td>88</td>\n",
       "    </tr>\n",
       "  </tbody>\n",
       "</table>\n",
       "<p>10886 rows × 12 columns</p>\n",
       "</div>"
      ],
      "text/plain": [
       "           time  season  holiday  workingday  weather   temp   atemp  \\\n",
       "0      00:00:00       1        0           0        1   9.84  14.395   \n",
       "1      01:00:00       1        0           0        1   9.02  13.635   \n",
       "2      02:00:00       1        0           0        1   9.02  13.635   \n",
       "3      03:00:00       1        0           0        1   9.84  14.395   \n",
       "4      04:00:00       1        0           0        1   9.84  14.395   \n",
       "...         ...     ...      ...         ...      ...    ...     ...   \n",
       "10881  19:00:00       4        0           1        1  15.58  19.695   \n",
       "10882  20:00:00       4        0           1        1  14.76  17.425   \n",
       "10883  21:00:00       4        0           1        1  13.94  15.910   \n",
       "10884  22:00:00       4        0           1        1  13.94  17.425   \n",
       "10885  23:00:00       4        0           1        1  13.12  16.665   \n",
       "\n",
       "       humidity  windspeed  casual  registered  count  \n",
       "0            81     0.0000       3          13     16  \n",
       "1            80     0.0000       8          32     40  \n",
       "2            80     0.0000       5          27     32  \n",
       "3            75     0.0000       3          10     13  \n",
       "4            75     0.0000       0           1      1  \n",
       "...         ...        ...     ...         ...    ...  \n",
       "10881        50    26.0027       7         329    336  \n",
       "10882        57    15.0013      10         231    241  \n",
       "10883        61    15.0013       4         164    168  \n",
       "10884        61     6.0032      12         117    129  \n",
       "10885        66     8.9981       4          84     88  \n",
       "\n",
       "[10886 rows x 12 columns]"
      ]
     },
     "execution_count": 65,
     "metadata": {},
     "output_type": "execute_result"
    }
   ],
   "source": [
    "dff = df.drop('date', axis = 1)\n",
    "dff"
   ]
  },
  {
   "cell_type": "code",
   "execution_count": 66,
   "metadata": {},
   "outputs": [
    {
     "name": "stdout",
     "output_type": "stream",
     "text": [
      "The new dff is\n"
     ]
    },
    {
     "data": {
      "text/html": [
       "<div>\n",
       "<style scoped>\n",
       "    .dataframe tbody tr th:only-of-type {\n",
       "        vertical-align: middle;\n",
       "    }\n",
       "\n",
       "    .dataframe tbody tr th {\n",
       "        vertical-align: top;\n",
       "    }\n",
       "\n",
       "    .dataframe thead th {\n",
       "        text-align: right;\n",
       "    }\n",
       "</style>\n",
       "<table border=\"1\" class=\"dataframe\">\n",
       "  <thead>\n",
       "    <tr style=\"text-align: right;\">\n",
       "      <th></th>\n",
       "      <th>season</th>\n",
       "      <th>holiday</th>\n",
       "      <th>workingday</th>\n",
       "      <th>weather</th>\n",
       "      <th>temp</th>\n",
       "      <th>atemp</th>\n",
       "      <th>humidity</th>\n",
       "      <th>windspeed</th>\n",
       "      <th>casual</th>\n",
       "      <th>registered</th>\n",
       "      <th>...</th>\n",
       "      <th>time_14:00:00</th>\n",
       "      <th>time_15:00:00</th>\n",
       "      <th>time_16:00:00</th>\n",
       "      <th>time_17:00:00</th>\n",
       "      <th>time_18:00:00</th>\n",
       "      <th>time_19:00:00</th>\n",
       "      <th>time_20:00:00</th>\n",
       "      <th>time_21:00:00</th>\n",
       "      <th>time_22:00:00</th>\n",
       "      <th>time_23:00:00</th>\n",
       "    </tr>\n",
       "  </thead>\n",
       "  <tbody>\n",
       "    <tr>\n",
       "      <th>0</th>\n",
       "      <td>1</td>\n",
       "      <td>0</td>\n",
       "      <td>0</td>\n",
       "      <td>1</td>\n",
       "      <td>9.84</td>\n",
       "      <td>14.395</td>\n",
       "      <td>81</td>\n",
       "      <td>0.0</td>\n",
       "      <td>3</td>\n",
       "      <td>13</td>\n",
       "      <td>...</td>\n",
       "      <td>False</td>\n",
       "      <td>False</td>\n",
       "      <td>False</td>\n",
       "      <td>False</td>\n",
       "      <td>False</td>\n",
       "      <td>False</td>\n",
       "      <td>False</td>\n",
       "      <td>False</td>\n",
       "      <td>False</td>\n",
       "      <td>False</td>\n",
       "    </tr>\n",
       "    <tr>\n",
       "      <th>1</th>\n",
       "      <td>1</td>\n",
       "      <td>0</td>\n",
       "      <td>0</td>\n",
       "      <td>1</td>\n",
       "      <td>9.02</td>\n",
       "      <td>13.635</td>\n",
       "      <td>80</td>\n",
       "      <td>0.0</td>\n",
       "      <td>8</td>\n",
       "      <td>32</td>\n",
       "      <td>...</td>\n",
       "      <td>False</td>\n",
       "      <td>False</td>\n",
       "      <td>False</td>\n",
       "      <td>False</td>\n",
       "      <td>False</td>\n",
       "      <td>False</td>\n",
       "      <td>False</td>\n",
       "      <td>False</td>\n",
       "      <td>False</td>\n",
       "      <td>False</td>\n",
       "    </tr>\n",
       "    <tr>\n",
       "      <th>2</th>\n",
       "      <td>1</td>\n",
       "      <td>0</td>\n",
       "      <td>0</td>\n",
       "      <td>1</td>\n",
       "      <td>9.02</td>\n",
       "      <td>13.635</td>\n",
       "      <td>80</td>\n",
       "      <td>0.0</td>\n",
       "      <td>5</td>\n",
       "      <td>27</td>\n",
       "      <td>...</td>\n",
       "      <td>False</td>\n",
       "      <td>False</td>\n",
       "      <td>False</td>\n",
       "      <td>False</td>\n",
       "      <td>False</td>\n",
       "      <td>False</td>\n",
       "      <td>False</td>\n",
       "      <td>False</td>\n",
       "      <td>False</td>\n",
       "      <td>False</td>\n",
       "    </tr>\n",
       "  </tbody>\n",
       "</table>\n",
       "<p>3 rows × 35 columns</p>\n",
       "</div>"
      ],
      "text/plain": [
       "   season  holiday  workingday  weather  temp   atemp  humidity  windspeed  \\\n",
       "0       1        0           0        1  9.84  14.395        81        0.0   \n",
       "1       1        0           0        1  9.02  13.635        80        0.0   \n",
       "2       1        0           0        1  9.02  13.635        80        0.0   \n",
       "\n",
       "   casual  registered  ...  time_14:00:00  time_15:00:00  time_16:00:00  \\\n",
       "0       3          13  ...          False          False          False   \n",
       "1       8          32  ...          False          False          False   \n",
       "2       5          27  ...          False          False          False   \n",
       "\n",
       "   time_17:00:00  time_18:00:00  time_19:00:00  time_20:00:00  time_21:00:00  \\\n",
       "0          False          False          False          False          False   \n",
       "1          False          False          False          False          False   \n",
       "2          False          False          False          False          False   \n",
       "\n",
       "   time_22:00:00  time_23:00:00  \n",
       "0          False          False  \n",
       "1          False          False  \n",
       "2          False          False  \n",
       "\n",
       "[3 rows x 35 columns]"
      ]
     },
     "metadata": {},
     "output_type": "display_data"
    },
    {
     "name": "stdout",
     "output_type": "stream",
     "text": [
      "The size of the dataframe is\n",
      " We have 10886 rows, and 35 columns\n"
     ]
    }
   ],
   "source": [
    "ecnoded_df = pd.get_dummies(dff)\n",
    "print('The new dff is')\n",
    "display(ecnoded_df.head(3))\n",
    "print('The size of the dataframe is')\n",
    "print(' We have', ecnoded_df.shape[0], 'rows, and', ecnoded_df.shape[1], 'columns')"
   ]
  },
  {
   "cell_type": "code",
   "execution_count": 67,
   "metadata": {},
   "outputs": [],
   "source": [
    "# 1. Train-Test Split:\n",
    "# الآن، سوف نقوم بفصل البيانات على مرتين: الفصل الأول سنقوم بفصل العمود المستهدف (عدد الايجارات) عن باقي الأعمدة (المتغيرات المستقلة) عن طريق التالي\n",
    "# والسبب وراء هذا الفصل هو أننا نريد استخدام الأعمدة المستقلة لتوقع قيمة العمود المستهدف (عمود عدد الايجارات).\n",
    "# X(Columns) * (Parameters) >> leads to Y(Predictions)\n",
    "\n",
    "# Create X & y - \n",
    "# X represetns the independet variables - \n",
    "X = ecnoded_df.drop('count', axis = 1)\n",
    "\n",
    "# Targer variable -\n",
    "y = ecnoded_df['count']"
   ]
  },
  {
   "cell_type": "code",
   "execution_count": 68,
   "metadata": {},
   "outputs": [],
   "source": [
    "# الآن الفصل الثاني هو فصل (التدريب/الاختبار) والذي نقوم به في هذا الفصل هو أخذ نسبة من البيانات وفصلها عن طريق عدم وضعها في مرحلة تدريب النموذج. والسبب في قيام ذلك هو أننا نريد اختبار دقة عمل النموذج في الحياة الواقعية وإذا اختبرنا النموذج على نفس البيانات التي دربناه عليها سوف يحرز نتائج عالية بسهولة. ومن أجل ذلك نحن نبقي جزء من البيانات من غير تدريب لإجراء الاختبارات عليه بحيادية.\n",
    "from sklearn.model_selection import train_test_split # for splitting the data - الكود المستخدم لفصل البيانات\n",
    "\n",
    "# We will make the test size = 30% - \n",
    "X_train, X_test, y_train, y_test = train_test_split(X, y, test_size=0.30, random_state=1204)\n"
   ]
  },
  {
   "cell_type": "code",
   "execution_count": 69,
   "metadata": {},
   "outputs": [
    {
     "data": {
      "text/plain": [
       "(7620, 3266, 10886)"
      ]
     },
     "execution_count": 69,
     "metadata": {},
     "output_type": "execute_result"
    }
   ],
   "source": [
    "len(X_train), len(X_test), len(X_train+X_test)"
   ]
  },
  {
   "cell_type": "code",
   "execution_count": 70,
   "metadata": {},
   "outputs": [],
   "source": [
    "# نلاحظ أن عملية الفصل انتجت لنا 4 متغيرات ووصفهم كالتالي\n",
    "# ●\tX_train: هي الصفوف التي سوف نستخدمها في تدريب النموذج.\n",
    "# ●\ty_train: هي عدد ايجارات الصفوف التي سوف ندرب النموذج عليها.\n",
    "# ●\tX_test: هي الصفوف التي نريد توقعها من أجل اختبار دقة النموذج\n",
    "# ●\ty_test: هي ايجارات الصفوف الحقيقة والتي سوف نقارن توقعات النموذج بها\n"
   ]
  },
  {
   "cell_type": "code",
   "execution_count": 71,
   "metadata": {},
   "outputs": [
    {
     "data": {
      "text/html": [
       "<div>\n",
       "<style scoped>\n",
       "    .dataframe tbody tr th:only-of-type {\n",
       "        vertical-align: middle;\n",
       "    }\n",
       "\n",
       "    .dataframe tbody tr th {\n",
       "        vertical-align: top;\n",
       "    }\n",
       "\n",
       "    .dataframe thead th {\n",
       "        text-align: right;\n",
       "    }\n",
       "</style>\n",
       "<table border=\"1\" class=\"dataframe\">\n",
       "  <thead>\n",
       "    <tr style=\"text-align: right;\">\n",
       "      <th></th>\n",
       "      <th>season</th>\n",
       "      <th>holiday</th>\n",
       "      <th>workingday</th>\n",
       "      <th>weather</th>\n",
       "      <th>temp</th>\n",
       "      <th>atemp</th>\n",
       "      <th>humidity</th>\n",
       "      <th>windspeed</th>\n",
       "      <th>casual</th>\n",
       "      <th>registered</th>\n",
       "      <th>...</th>\n",
       "      <th>time_14:00:00</th>\n",
       "      <th>time_15:00:00</th>\n",
       "      <th>time_16:00:00</th>\n",
       "      <th>time_17:00:00</th>\n",
       "      <th>time_18:00:00</th>\n",
       "      <th>time_19:00:00</th>\n",
       "      <th>time_20:00:00</th>\n",
       "      <th>time_21:00:00</th>\n",
       "      <th>time_22:00:00</th>\n",
       "      <th>time_23:00:00</th>\n",
       "    </tr>\n",
       "  </thead>\n",
       "  <tbody>\n",
       "    <tr>\n",
       "      <th>2569</th>\n",
       "      <td>2</td>\n",
       "      <td>0</td>\n",
       "      <td>1</td>\n",
       "      <td>1</td>\n",
       "      <td>22.96</td>\n",
       "      <td>26.515</td>\n",
       "      <td>68</td>\n",
       "      <td>15.0013</td>\n",
       "      <td>19</td>\n",
       "      <td>91</td>\n",
       "      <td>...</td>\n",
       "      <td>False</td>\n",
       "      <td>False</td>\n",
       "      <td>False</td>\n",
       "      <td>False</td>\n",
       "      <td>False</td>\n",
       "      <td>False</td>\n",
       "      <td>False</td>\n",
       "      <td>False</td>\n",
       "      <td>False</td>\n",
       "      <td>True</td>\n",
       "    </tr>\n",
       "    <tr>\n",
       "      <th>1279</th>\n",
       "      <td>1</td>\n",
       "      <td>0</td>\n",
       "      <td>1</td>\n",
       "      <td>1</td>\n",
       "      <td>14.76</td>\n",
       "      <td>17.425</td>\n",
       "      <td>71</td>\n",
       "      <td>12.9980</td>\n",
       "      <td>1</td>\n",
       "      <td>4</td>\n",
       "      <td>...</td>\n",
       "      <td>False</td>\n",
       "      <td>False</td>\n",
       "      <td>False</td>\n",
       "      <td>False</td>\n",
       "      <td>False</td>\n",
       "      <td>False</td>\n",
       "      <td>False</td>\n",
       "      <td>False</td>\n",
       "      <td>False</td>\n",
       "      <td>False</td>\n",
       "    </tr>\n",
       "    <tr>\n",
       "      <th>2733</th>\n",
       "      <td>3</td>\n",
       "      <td>0</td>\n",
       "      <td>0</td>\n",
       "      <td>1</td>\n",
       "      <td>32.80</td>\n",
       "      <td>34.850</td>\n",
       "      <td>33</td>\n",
       "      <td>15.0013</td>\n",
       "      <td>156</td>\n",
       "      <td>149</td>\n",
       "      <td>...</td>\n",
       "      <td>False</td>\n",
       "      <td>False</td>\n",
       "      <td>False</td>\n",
       "      <td>False</td>\n",
       "      <td>False</td>\n",
       "      <td>True</td>\n",
       "      <td>False</td>\n",
       "      <td>False</td>\n",
       "      <td>False</td>\n",
       "      <td>False</td>\n",
       "    </tr>\n",
       "  </tbody>\n",
       "</table>\n",
       "<p>3 rows × 34 columns</p>\n",
       "</div>"
      ],
      "text/plain": [
       "      season  holiday  workingday  weather   temp   atemp  humidity  \\\n",
       "2569       2        0           1        1  22.96  26.515        68   \n",
       "1279       1        0           1        1  14.76  17.425        71   \n",
       "2733       3        0           0        1  32.80  34.850        33   \n",
       "\n",
       "      windspeed  casual  registered  ...  time_14:00:00  time_15:00:00  \\\n",
       "2569    15.0013      19          91  ...          False          False   \n",
       "1279    12.9980       1           4  ...          False          False   \n",
       "2733    15.0013     156         149  ...          False          False   \n",
       "\n",
       "      time_16:00:00  time_17:00:00  time_18:00:00  time_19:00:00  \\\n",
       "2569          False          False          False          False   \n",
       "1279          False          False          False          False   \n",
       "2733          False          False          False           True   \n",
       "\n",
       "      time_20:00:00  time_21:00:00  time_22:00:00  time_23:00:00  \n",
       "2569          False          False          False           True  \n",
       "1279          False          False          False          False  \n",
       "2733          False          False          False          False  \n",
       "\n",
       "[3 rows x 34 columns]"
      ]
     },
     "execution_count": 71,
     "metadata": {},
     "output_type": "execute_result"
    }
   ],
   "source": [
    "X_train.head(3)"
   ]
  },
  {
   "cell_type": "code",
   "execution_count": 72,
   "metadata": {},
   "outputs": [
    {
     "data": {
      "text/plain": [
       "(array([[0.33333333, 0.        , 1.        , ..., 0.        , 0.        ,\n",
       "         1.        ],\n",
       "        [0.        , 0.        , 1.        , ..., 0.        , 0.        ,\n",
       "         0.        ],\n",
       "        [0.66666667, 0.        , 0.        , ..., 0.        , 0.        ,\n",
       "         0.        ],\n",
       "        ...,\n",
       "        [0.        , 0.        , 1.        , ..., 0.        , 0.        ,\n",
       "         0.        ],\n",
       "        [1.        , 0.        , 1.        , ..., 0.        , 0.        ,\n",
       "         0.        ],\n",
       "        [0.66666667, 0.        , 1.        , ..., 0.        , 0.        ,\n",
       "         0.        ]], shape=(7620, 34)),\n",
       " array([[1.        , 0.        , 1.        , ..., 0.        , 0.        ,\n",
       "         0.        ],\n",
       "        [0.33333333, 0.        , 0.        , ..., 0.        , 0.        ,\n",
       "         0.        ],\n",
       "        [1.        , 1.        , 0.        , ..., 0.        , 0.        ,\n",
       "         0.        ],\n",
       "        ...,\n",
       "        [0.        , 0.        , 1.        , ..., 0.        , 0.        ,\n",
       "         0.        ],\n",
       "        [0.66666667, 0.        , 1.        , ..., 0.        , 0.        ,\n",
       "         0.        ],\n",
       "        [0.33333333, 0.        , 1.        , ..., 1.        , 0.        ,\n",
       "         0.        ]], shape=(3266, 34)))"
      ]
     },
     "execution_count": 72,
     "metadata": {},
     "output_type": "execute_result"
    }
   ],
   "source": [
    "# Scaling\n",
    "# الآن سوف نقوم بخطوة أخيرة قبل التدريب: هي توحيد المقاييس .\n",
    "# لماذا نقوم بتوحيد المقاييس؟ سوف تلاحظ أن لدينا عدة اعمدة لتوقع عدد الايجارات:  إن لم نقم بتوحيد المقاييس سوف يكون أثر بعض الاعمدة أكبر بكثير من الاخرين لأن قيمهم اكبر بكثير من القيم الاخرى . ولحل هذه المشكلة نقوم بتوحيد المقاييس بتطبيق اجراء سوف ينتج قيم جديدة للأعمدة تتراوح ما بين الصفر والواحد, حيث أن صفر تمثل أقل قيمة وواحد تمثل أعلى قيمة. وبذلك، نحن نجعل أثر كل عمود في توقع عدد الايجارات متساوي مع الأعمدة الأخرى لأن كل قيم الأعمدة تتراوح ما بين 0-1.\n",
    "\n",
    "from sklearn.preprocessing import MinMaxScaler # To scale columns - لتوحيد المقاييس\n",
    "\n",
    "s = MinMaxScaler()\n",
    "X_train_s = s.fit_transform(X_train)\n",
    "X_test_s = s.transform(X_test)\n",
    "\n",
    "X_train_s, X_test_s"
   ]
  },
  {
   "cell_type": "code",
   "execution_count": 73,
   "metadata": {},
   "outputs": [],
   "source": [
    "#  2. Train the Model: Train a Linear Regression model on the training data.\n",
    "# سوف نختار Ridge\n",
    "# لانه احرز نتائج اعلى في اختبار تقييم الاداء في اول نموذج\n",
    "\n",
    "from sklearn.linear_model import Ridge #  لتدريب نموذج الانحدار الخطي\n",
    "# Ridge regression model\n",
    "Ridge = Ridge() # Initiate ridge object\n",
    "Ridge.fit(X_train_s, y_train)\n",
    "Ridge_pred = Ridge.predict(X_test_s)\n"
   ]
  },
  {
   "cell_type": "code",
   "execution_count": 74,
   "metadata": {},
   "outputs": [
    {
     "name": "stdout",
     "output_type": "stream",
     "text": [
      "\n",
      "Ridge\n",
      "R2 value is 0.9999640884118951\n",
      "RMSE value is 1.085176383148961\n",
      "MAE value is 0.7785037252088937\n"
     ]
    }
   ],
   "source": [
    "# Evaluate the Model: Use metrics like MAE, RMSE, and R² Score to assess performance.\n",
    "# R²: قيمة تتراوح بين 0-1 كلما اقتربنا من 1 كل ما كان توقعنا قريب من القيمة الحقيقية.\n",
    "# RMSE: قيمة تمثل كمية الخطأ في توقعنا، كلما أخطأنا كلما ارتفعت\n",
    "# MAE: هي متوسط القيم المطلقة للفروق بين القيم الحقيقية والتوقعات,اي هي متوسط حجم الخطأ الذي يحدث في التوقعات, كلما كانت قيمتها أقل، كان التوقع أفضل.\n",
    "\n",
    "\n",
    "from sklearn.metrics import r2_score, mean_squared_error, mean_absolute_error # for evaluation\n",
    "import numpy as np\n",
    "\n",
    "# Evalaute Ridge model performance \n",
    "\n",
    "print('\\nRidge')\n",
    "print('R2 value is', r2_score(y_test, Ridge_pred))\n",
    "print('RMSE value is', np.sqrt(mean_squared_error(y_test, Ridge_pred)))\n",
    "print('MAE value is', mean_absolute_error(y_test, Ridge_pred))\n",
    "\n"
   ]
  },
  {
   "cell_type": "code",
   "execution_count": 75,
   "metadata": {},
   "outputs": [
    {
     "data": {
      "image/png": "[encoded data removed]",
      "text/plain": [
       "<Figure size 800x500 with 1 Axes>"
      ]
     },
     "metadata": {},
     "output_type": "display_data"
    }
   ],
   "source": [
    "#  في الأسفل مقارنة بين الايجارات المتوقعة عن طريق نموذج الردج والحقيقية، كل ما كان الخط مستقيم كل ما كان النموذج أكثر دقة.\n",
    "# - Plot and interpret residuals to evaluate how well the model fits the data.\n",
    "figure = plt.figure(figsize=(8,5))\n",
    "ax = plt.axes()\n",
    "ax.plot(y_test, Ridge_pred, marker='o', ls='', ms=3.0,color='sienna')\n",
    "\n",
    "lim = (0, y_test.max())\n",
    "\n",
    "ax.set(xlabel='Actual count',\n",
    "        ylabel='Predicted count',\n",
    "        xlim=lim,\n",
    "        ylim=lim)\n",
    "plt.title('Ridge Regression Model Results', fontsize=14)\n",
    "ax.xaxis.label.set_size(14);\n",
    "ax.yaxis.label.set_size(14);\n"
   ]
  },
  {
   "cell_type": "code",
   "execution_count": 76,
   "metadata": {},
   "outputs": [
    {
     "data": {
      "text/plain": [
       "<Axes: xlabel='count', ylabel='Count'>"
      ]
     },
     "execution_count": 76,
     "metadata": {},
     "output_type": "execute_result"
    },
    {
     "data": {
      "image/png": "[encoded data removed]",
      "text/plain": [
       "<Figure size 640x480 with 1 Axes>"
      ]
     },
     "metadata": {},
     "output_type": "display_data"
    }
   ],
   "source": [
    "# Bonus Task \n",
    "sns.histplot(Ridge_pred, color='red', alpha=0.5, bins=50)\n",
    "sns.histplot(y_test, color='blue', alpha=0.5, bins=50)"
   ]
  },
  {
   "cell_type": "code",
   "execution_count": 77,
   "metadata": {},
   "outputs": [
    {
     "data": {
      "text/plain": [
       "(array([0.66666667, 0.        , 1.        , 0.        , 0.75510204,\n",
       "        0.745721  , 0.4       , 0.3508875 , 0.24250681, 0.42437923,\n",
       "        0.        , 0.        , 0.        , 0.        , 0.        ,\n",
       "        0.        , 0.        , 0.        , 0.        , 0.        ,\n",
       "        0.        , 0.        , 0.        , 0.        , 0.        ,\n",
       "        0.        , 0.        , 0.        , 1.        , 0.        ,\n",
       "        0.        , 0.        , 0.        , 0.        ]),\n",
       " np.float64(465.6205214321727),\n",
       " np.int64(465))"
      ]
     },
     "execution_count": 77,
     "metadata": {},
     "output_type": "execute_result"
    }
   ],
   "source": [
    "X_test_s[3] , Ridge_pred[3] , y_test[3428]"
   ]
  },
  {
   "cell_type": "markdown",
   "metadata": {},
   "source": [
    "<h3 style='font-size:20px;color:red;font-weight:bold'>My report</h3>\n",
    "I have explained each paragraph and step separately in the code above, and here is a summary:\n",
    "\n",
    "1. Data Preprocessing:\n",
    "\n",
    "- Inspection: Dataset inspected for shape, column data types, missing values, and duplicates. Results indicate no missing or duplicate rows initially.\n",
    "\n",
    "- Datetime Handling: Datetime column split into date and time. Then, the date was transformed to only retain year and month, optimizing dimensionality.\n",
    "\n",
    "- Encoding: Categorical variables were encoded using one-hot encoding.\n",
    "--------------------------------------------------------------------------------------------------------------------------------------------------------------------------------\n",
    "\n",
    "2. EDA Highlights:\n",
    "\n",
    "- Target Variable Analysis: The distribution of bike rentals (count) indicates a right-skewed distribution with high variability.\n",
    "\n",
    "- Relationships with Features: Scatter plots and bar charts revealed key relationships:\n",
    "\n",
    "          Strong correlation between count and registered users.\n",
    "\n",
    "          Weak or unclear correlation between count and other variables like season.\n",
    "\n",
    "- Correlation Map: A heatmap highlighted features with significant positive or negative correlations with count.\n",
    "\n",
    "(I have explained each step separately in the code above, please see)\n",
    "\n",
    "-------------------------------------------------------------------------------------------------------------------------------------------------------------------------------\n",
    "3. Feature Engineering:\n",
    "\n",
    "New features derived include time and a consolidated year and month column from the original datetime.\n",
    "\n",
    "In the third model we removed the date column, and the results were that it achieved the best model of the models. This suggests that the date column might have introduced noise or redundancy in the model, and its removal improved overall performance.\n",
    "\n",
    "-------------------------------------------------------------------------------------------------------------------------------------------------------------------------------\n",
    "4. Model Training and Evaluation:\n",
    "\n",
    "Data split into training (70%) and testing (30%) sets.\n",
    "\n",
    "Ridge regression selected due to superior performance compared to Lasso regression.\n",
    "\n",
    "Metrics:\n",
    "Comparison of Results:\n",
    "<table>\n",
    "<thead>\n",
    "<tr>\n",
    "<th>Scenario</th>\n",
    "<th>R² Value</th>\n",
    "<th>RMSE</th>\n",
    "<th>MAE</th>\n",
    "</tr>\n",
    "</thead>\n",
    "<tbody>\n",
    "<tr>\n",
    "<td><strong>Before Deduplication</strong></td>\n",
    "<td>0.9999567432540661</td>\n",
    "<td>1.1909950345885727</td>\n",
    "<td>0.880192700844708</td>\n",
    "</tr>\n",
    "<tr>\n",
    "<td><strong>After Deduplication</strong></td>\n",
    "<td>0.9999574499885516</td>\n",
    "<td>1.1825881768504087</td>\n",
    "<td>0.8731317569664979</td>\n",
    "</tr>\n",
    "<tr>\n",
    "<td><strong>After Removing Date</strong></td>\n",
    "<td>0.9999640884118951</td>\n",
    "<td>1.085176383148961</td>\n",
    "<td>0.7785037252088937</td>\n",
    "</tr>\n",
    "</tbody>\n",
    "\n",
    "\n",
    "<strong style='color:brown'>The best model is the one after removing the date column, as it achieves the highest R² value and the lowest RMSE and MAE. This suggests that the date column might have introduced noise or redundancy in the model, and its removal improved overall performance.</strong>\n",
    "\n",
    "(Look at the table below. The table appears below because it was written in html, my goal was to write it before this analysis here.)\n",
    "\n",
    "-------------------------------------------------------------------------------------------------------------------------------------------------------------------------------\n",
    "\n",
    "5. Visualization:\n",
    "Scatter plots for residuals and a combined histogram for predictions vs. actual values showcase the model's accuracy.\n"
   ]
  }
 ],
 "metadata": {
  "kernelspec": {
   "display_name": "Python 3",
   "language": "python",
   "name": "python3"
  },
  "language_info": {
   "codemirror_mode": {
    "name": "ipython",
    "version": 3
   },
   "file_extension": ".py",
   "mimetype": "text/x-python",
   "name": "python",
   "nbconvert_exporter": "python",
   "pygments_lexer": "ipython3",
   "version": "3.12.4"
  }
 },
 "nbformat": 4,
 "nbformat_minor": 2
}
